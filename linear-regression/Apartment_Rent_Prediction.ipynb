{
  "nbformat": 4,
  "nbformat_minor": 0,
  "metadata": {
    "colab": {
      "provenance": [],
      "authorship_tag": "ABX9TyP1Qu4UZWo91lCg7RiJcmkO",
      "include_colab_link": true
    },
    "kernelspec": {
      "name": "python3",
      "display_name": "Python 3"
    },
    "language_info": {
      "name": "python"
    }
  },
  "cells": [
    {
      "cell_type": "markdown",
      "metadata": {
        "id": "view-in-github",
        "colab_type": "text"
      },
      "source": [
        "<a href=\"https://colab.research.google.com/github/wesleykieu/machine-learning-portfolio/blob/main/Apartment_Rent_Prediction.ipynb\" target=\"_parent\"><img src=\"https://colab.research.google.com/assets/colab-badge.svg\" alt=\"Open In Colab\"/></a>"
      ]
    },
    {
      "cell_type": "code",
      "execution_count": 94,
      "metadata": {
        "id": "MdEvpLzBpXlm"
      },
      "outputs": [],
      "source": [
        "import pandas as pd\n",
        "import numpy as np\n",
        "import matplotlib.pyplot as plt\n",
        "import seaborn as sns\n",
        "\n",
        "from sklearn.linear_model import LinearRegression, Ridge, Lasso\n",
        "from sklearn.preprocessing import StandardScaler\n",
        "from sklearn.metrics import mean_squared_error, r2_score, mean_absolute_error"
      ]
    },
    {
      "cell_type": "code",
      "source": [
        "# Create the housing dataset\n",
        "data = {\n",
        "    'Id': [1, 2, 3, 4, 5, 6, 7, 8, 9, 10, 11, 12],\n",
        "    'Rent': [2450, 2900, 2100, 3300, 1850, 3550, 2750, 3150, 2250, 3700, 2950, 2400],\n",
        "    'Size_sqft': [520, 760, 430, 880, 400, 910, 640, 820, 510, 950, 700, 560],\n",
        "    'Beds': [1, 2, 1, 2, 1, 3, 2, 2, 1, 3, 2, 1],\n",
        "    'Age_yrs': [12, 8, 20, 6, 25, 5, 10, 7, 18, 4, 9, 15],\n",
        "    'Dist_Transit_km': [0.3, 0.6, 1.1, 0.4, 1.4, 0.8, 0.9, 0.5, 1.2, 0.7, 0.6, 1.0],\n",
        "    'Crime_Index': [72, 65, 80, 60, 85, 58, 69, 63, 77, 55, 66, 74],\n",
        "    'Renovated': [0, 1, 0, 1, 0, 1, 0, 1, 0, 1, 0, 0],\n",
        "    'Neighborhood': ['A', 'B', 'C', 'A', 'C', 'B', 'A', 'B', 'C', 'A', 'B', 'A']\n",
        "}\n",
        "\n",
        "df = pd.DataFrame(data)"
      ],
      "metadata": {
        "id": "ESIPrrFep7AH"
      },
      "execution_count": 95,
      "outputs": []
    },
    {
      "cell_type": "code",
      "source": [
        "df.head()"
      ],
      "metadata": {
        "colab": {
          "base_uri": "https://localhost:8080/",
          "height": 206
        },
        "id": "wLIM6SDdp8p8",
        "outputId": "5f897155-567f-4f60-c427-e5932d6ba08a"
      },
      "execution_count": 96,
      "outputs": [
        {
          "output_type": "execute_result",
          "data": {
            "text/plain": [
              "   Id  Rent  Size_sqft  Beds  Age_yrs  Dist_Transit_km  Crime_Index  \\\n",
              "0   1  2450        520     1       12              0.3           72   \n",
              "1   2  2900        760     2        8              0.6           65   \n",
              "2   3  2100        430     1       20              1.1           80   \n",
              "3   4  3300        880     2        6              0.4           60   \n",
              "4   5  1850        400     1       25              1.4           85   \n",
              "\n",
              "   Renovated Neighborhood  \n",
              "0          0            A  \n",
              "1          1            B  \n",
              "2          0            C  \n",
              "3          1            A  \n",
              "4          0            C  "
            ],
            "text/html": [
              "\n",
              "  <div id=\"df-67d111a6-bcde-4e1b-9327-73b9bda7f44b\" class=\"colab-df-container\">\n",
              "    <div>\n",
              "<style scoped>\n",
              "    .dataframe tbody tr th:only-of-type {\n",
              "        vertical-align: middle;\n",
              "    }\n",
              "\n",
              "    .dataframe tbody tr th {\n",
              "        vertical-align: top;\n",
              "    }\n",
              "\n",
              "    .dataframe thead th {\n",
              "        text-align: right;\n",
              "    }\n",
              "</style>\n",
              "<table border=\"1\" class=\"dataframe\">\n",
              "  <thead>\n",
              "    <tr style=\"text-align: right;\">\n",
              "      <th></th>\n",
              "      <th>Id</th>\n",
              "      <th>Rent</th>\n",
              "      <th>Size_sqft</th>\n",
              "      <th>Beds</th>\n",
              "      <th>Age_yrs</th>\n",
              "      <th>Dist_Transit_km</th>\n",
              "      <th>Crime_Index</th>\n",
              "      <th>Renovated</th>\n",
              "      <th>Neighborhood</th>\n",
              "    </tr>\n",
              "  </thead>\n",
              "  <tbody>\n",
              "    <tr>\n",
              "      <th>0</th>\n",
              "      <td>1</td>\n",
              "      <td>2450</td>\n",
              "      <td>520</td>\n",
              "      <td>1</td>\n",
              "      <td>12</td>\n",
              "      <td>0.3</td>\n",
              "      <td>72</td>\n",
              "      <td>0</td>\n",
              "      <td>A</td>\n",
              "    </tr>\n",
              "    <tr>\n",
              "      <th>1</th>\n",
              "      <td>2</td>\n",
              "      <td>2900</td>\n",
              "      <td>760</td>\n",
              "      <td>2</td>\n",
              "      <td>8</td>\n",
              "      <td>0.6</td>\n",
              "      <td>65</td>\n",
              "      <td>1</td>\n",
              "      <td>B</td>\n",
              "    </tr>\n",
              "    <tr>\n",
              "      <th>2</th>\n",
              "      <td>3</td>\n",
              "      <td>2100</td>\n",
              "      <td>430</td>\n",
              "      <td>1</td>\n",
              "      <td>20</td>\n",
              "      <td>1.1</td>\n",
              "      <td>80</td>\n",
              "      <td>0</td>\n",
              "      <td>C</td>\n",
              "    </tr>\n",
              "    <tr>\n",
              "      <th>3</th>\n",
              "      <td>4</td>\n",
              "      <td>3300</td>\n",
              "      <td>880</td>\n",
              "      <td>2</td>\n",
              "      <td>6</td>\n",
              "      <td>0.4</td>\n",
              "      <td>60</td>\n",
              "      <td>1</td>\n",
              "      <td>A</td>\n",
              "    </tr>\n",
              "    <tr>\n",
              "      <th>4</th>\n",
              "      <td>5</td>\n",
              "      <td>1850</td>\n",
              "      <td>400</td>\n",
              "      <td>1</td>\n",
              "      <td>25</td>\n",
              "      <td>1.4</td>\n",
              "      <td>85</td>\n",
              "      <td>0</td>\n",
              "      <td>C</td>\n",
              "    </tr>\n",
              "  </tbody>\n",
              "</table>\n",
              "</div>\n",
              "    <div class=\"colab-df-buttons\">\n",
              "\n",
              "  <div class=\"colab-df-container\">\n",
              "    <button class=\"colab-df-convert\" onclick=\"convertToInteractive('df-67d111a6-bcde-4e1b-9327-73b9bda7f44b')\"\n",
              "            title=\"Convert this dataframe to an interactive table.\"\n",
              "            style=\"display:none;\">\n",
              "\n",
              "  <svg xmlns=\"http://www.w3.org/2000/svg\" height=\"24px\" viewBox=\"0 -960 960 960\">\n",
              "    <path d=\"M120-120v-720h720v720H120Zm60-500h600v-160H180v160Zm220 220h160v-160H400v160Zm0 220h160v-160H400v160ZM180-400h160v-160H180v160Zm440 0h160v-160H620v160ZM180-180h160v-160H180v160Zm440 0h160v-160H620v160Z\"/>\n",
              "  </svg>\n",
              "    </button>\n",
              "\n",
              "  <style>\n",
              "    .colab-df-container {\n",
              "      display:flex;\n",
              "      gap: 12px;\n",
              "    }\n",
              "\n",
              "    .colab-df-convert {\n",
              "      background-color: #E8F0FE;\n",
              "      border: none;\n",
              "      border-radius: 50%;\n",
              "      cursor: pointer;\n",
              "      display: none;\n",
              "      fill: #1967D2;\n",
              "      height: 32px;\n",
              "      padding: 0 0 0 0;\n",
              "      width: 32px;\n",
              "    }\n",
              "\n",
              "    .colab-df-convert:hover {\n",
              "      background-color: #E2EBFA;\n",
              "      box-shadow: 0px 1px 2px rgba(60, 64, 67, 0.3), 0px 1px 3px 1px rgba(60, 64, 67, 0.15);\n",
              "      fill: #174EA6;\n",
              "    }\n",
              "\n",
              "    .colab-df-buttons div {\n",
              "      margin-bottom: 4px;\n",
              "    }\n",
              "\n",
              "    [theme=dark] .colab-df-convert {\n",
              "      background-color: #3B4455;\n",
              "      fill: #D2E3FC;\n",
              "    }\n",
              "\n",
              "    [theme=dark] .colab-df-convert:hover {\n",
              "      background-color: #434B5C;\n",
              "      box-shadow: 0px 1px 3px 1px rgba(0, 0, 0, 0.15);\n",
              "      filter: drop-shadow(0px 1px 2px rgba(0, 0, 0, 0.3));\n",
              "      fill: #FFFFFF;\n",
              "    }\n",
              "  </style>\n",
              "\n",
              "    <script>\n",
              "      const buttonEl =\n",
              "        document.querySelector('#df-67d111a6-bcde-4e1b-9327-73b9bda7f44b button.colab-df-convert');\n",
              "      buttonEl.style.display =\n",
              "        google.colab.kernel.accessAllowed ? 'block' : 'none';\n",
              "\n",
              "      async function convertToInteractive(key) {\n",
              "        const element = document.querySelector('#df-67d111a6-bcde-4e1b-9327-73b9bda7f44b');\n",
              "        const dataTable =\n",
              "          await google.colab.kernel.invokeFunction('convertToInteractive',\n",
              "                                                    [key], {});\n",
              "        if (!dataTable) return;\n",
              "\n",
              "        const docLinkHtml = 'Like what you see? Visit the ' +\n",
              "          '<a target=\"_blank\" href=https://colab.research.google.com/notebooks/data_table.ipynb>data table notebook</a>'\n",
              "          + ' to learn more about interactive tables.';\n",
              "        element.innerHTML = '';\n",
              "        dataTable['output_type'] = 'display_data';\n",
              "        await google.colab.output.renderOutput(dataTable, element);\n",
              "        const docLink = document.createElement('div');\n",
              "        docLink.innerHTML = docLinkHtml;\n",
              "        element.appendChild(docLink);\n",
              "      }\n",
              "    </script>\n",
              "  </div>\n",
              "\n",
              "\n",
              "    <div id=\"df-dde9ab3c-bc57-433a-ae1f-ff3e3bc83464\">\n",
              "      <button class=\"colab-df-quickchart\" onclick=\"quickchart('df-dde9ab3c-bc57-433a-ae1f-ff3e3bc83464')\"\n",
              "                title=\"Suggest charts\"\n",
              "                style=\"display:none;\">\n",
              "\n",
              "<svg xmlns=\"http://www.w3.org/2000/svg\" height=\"24px\"viewBox=\"0 0 24 24\"\n",
              "     width=\"24px\">\n",
              "    <g>\n",
              "        <path d=\"M19 3H5c-1.1 0-2 .9-2 2v14c0 1.1.9 2 2 2h14c1.1 0 2-.9 2-2V5c0-1.1-.9-2-2-2zM9 17H7v-7h2v7zm4 0h-2V7h2v10zm4 0h-2v-4h2v4z\"/>\n",
              "    </g>\n",
              "</svg>\n",
              "      </button>\n",
              "\n",
              "<style>\n",
              "  .colab-df-quickchart {\n",
              "      --bg-color: #E8F0FE;\n",
              "      --fill-color: #1967D2;\n",
              "      --hover-bg-color: #E2EBFA;\n",
              "      --hover-fill-color: #174EA6;\n",
              "      --disabled-fill-color: #AAA;\n",
              "      --disabled-bg-color: #DDD;\n",
              "  }\n",
              "\n",
              "  [theme=dark] .colab-df-quickchart {\n",
              "      --bg-color: #3B4455;\n",
              "      --fill-color: #D2E3FC;\n",
              "      --hover-bg-color: #434B5C;\n",
              "      --hover-fill-color: #FFFFFF;\n",
              "      --disabled-bg-color: #3B4455;\n",
              "      --disabled-fill-color: #666;\n",
              "  }\n",
              "\n",
              "  .colab-df-quickchart {\n",
              "    background-color: var(--bg-color);\n",
              "    border: none;\n",
              "    border-radius: 50%;\n",
              "    cursor: pointer;\n",
              "    display: none;\n",
              "    fill: var(--fill-color);\n",
              "    height: 32px;\n",
              "    padding: 0;\n",
              "    width: 32px;\n",
              "  }\n",
              "\n",
              "  .colab-df-quickchart:hover {\n",
              "    background-color: var(--hover-bg-color);\n",
              "    box-shadow: 0 1px 2px rgba(60, 64, 67, 0.3), 0 1px 3px 1px rgba(60, 64, 67, 0.15);\n",
              "    fill: var(--button-hover-fill-color);\n",
              "  }\n",
              "\n",
              "  .colab-df-quickchart-complete:disabled,\n",
              "  .colab-df-quickchart-complete:disabled:hover {\n",
              "    background-color: var(--disabled-bg-color);\n",
              "    fill: var(--disabled-fill-color);\n",
              "    box-shadow: none;\n",
              "  }\n",
              "\n",
              "  .colab-df-spinner {\n",
              "    border: 2px solid var(--fill-color);\n",
              "    border-color: transparent;\n",
              "    border-bottom-color: var(--fill-color);\n",
              "    animation:\n",
              "      spin 1s steps(1) infinite;\n",
              "  }\n",
              "\n",
              "  @keyframes spin {\n",
              "    0% {\n",
              "      border-color: transparent;\n",
              "      border-bottom-color: var(--fill-color);\n",
              "      border-left-color: var(--fill-color);\n",
              "    }\n",
              "    20% {\n",
              "      border-color: transparent;\n",
              "      border-left-color: var(--fill-color);\n",
              "      border-top-color: var(--fill-color);\n",
              "    }\n",
              "    30% {\n",
              "      border-color: transparent;\n",
              "      border-left-color: var(--fill-color);\n",
              "      border-top-color: var(--fill-color);\n",
              "      border-right-color: var(--fill-color);\n",
              "    }\n",
              "    40% {\n",
              "      border-color: transparent;\n",
              "      border-right-color: var(--fill-color);\n",
              "      border-top-color: var(--fill-color);\n",
              "    }\n",
              "    60% {\n",
              "      border-color: transparent;\n",
              "      border-right-color: var(--fill-color);\n",
              "    }\n",
              "    80% {\n",
              "      border-color: transparent;\n",
              "      border-right-color: var(--fill-color);\n",
              "      border-bottom-color: var(--fill-color);\n",
              "    }\n",
              "    90% {\n",
              "      border-color: transparent;\n",
              "      border-bottom-color: var(--fill-color);\n",
              "    }\n",
              "  }\n",
              "</style>\n",
              "\n",
              "      <script>\n",
              "        async function quickchart(key) {\n",
              "          const quickchartButtonEl =\n",
              "            document.querySelector('#' + key + ' button');\n",
              "          quickchartButtonEl.disabled = true;  // To prevent multiple clicks.\n",
              "          quickchartButtonEl.classList.add('colab-df-spinner');\n",
              "          try {\n",
              "            const charts = await google.colab.kernel.invokeFunction(\n",
              "                'suggestCharts', [key], {});\n",
              "          } catch (error) {\n",
              "            console.error('Error during call to suggestCharts:', error);\n",
              "          }\n",
              "          quickchartButtonEl.classList.remove('colab-df-spinner');\n",
              "          quickchartButtonEl.classList.add('colab-df-quickchart-complete');\n",
              "        }\n",
              "        (() => {\n",
              "          let quickchartButtonEl =\n",
              "            document.querySelector('#df-dde9ab3c-bc57-433a-ae1f-ff3e3bc83464 button');\n",
              "          quickchartButtonEl.style.display =\n",
              "            google.colab.kernel.accessAllowed ? 'block' : 'none';\n",
              "        })();\n",
              "      </script>\n",
              "    </div>\n",
              "\n",
              "    </div>\n",
              "  </div>\n"
            ],
            "application/vnd.google.colaboratory.intrinsic+json": {
              "type": "dataframe",
              "variable_name": "df",
              "summary": "{\n  \"name\": \"df\",\n  \"rows\": 12,\n  \"fields\": [\n    {\n      \"column\": \"Id\",\n      \"properties\": {\n        \"dtype\": \"number\",\n        \"std\": 3,\n        \"min\": 1,\n        \"max\": 12,\n        \"num_unique_values\": 12,\n        \"samples\": [\n          11,\n          10,\n          1\n        ],\n        \"semantic_type\": \"\",\n        \"description\": \"\"\n      }\n    },\n    {\n      \"column\": \"Rent\",\n      \"properties\": {\n        \"dtype\": \"number\",\n        \"std\": 584,\n        \"min\": 1850,\n        \"max\": 3700,\n        \"num_unique_values\": 12,\n        \"samples\": [\n          2950,\n          3700,\n          2450\n        ],\n        \"semantic_type\": \"\",\n        \"description\": \"\"\n      }\n    },\n    {\n      \"column\": \"Size_sqft\",\n      \"properties\": {\n        \"dtype\": \"number\",\n        \"std\": 191,\n        \"min\": 400,\n        \"max\": 950,\n        \"num_unique_values\": 12,\n        \"samples\": [\n          700,\n          950,\n          520\n        ],\n        \"semantic_type\": \"\",\n        \"description\": \"\"\n      }\n    },\n    {\n      \"column\": \"Beds\",\n      \"properties\": {\n        \"dtype\": \"number\",\n        \"std\": 0,\n        \"min\": 1,\n        \"max\": 3,\n        \"num_unique_values\": 3,\n        \"samples\": [\n          1,\n          2,\n          3\n        ],\n        \"semantic_type\": \"\",\n        \"description\": \"\"\n      }\n    },\n    {\n      \"column\": \"Age_yrs\",\n      \"properties\": {\n        \"dtype\": \"number\",\n        \"std\": 6,\n        \"min\": 4,\n        \"max\": 25,\n        \"num_unique_values\": 12,\n        \"samples\": [\n          9,\n          4,\n          12\n        ],\n        \"semantic_type\": \"\",\n        \"description\": \"\"\n      }\n    },\n    {\n      \"column\": \"Dist_Transit_km\",\n      \"properties\": {\n        \"dtype\": \"number\",\n        \"std\": 0.336987545853858,\n        \"min\": 0.3,\n        \"max\": 1.4,\n        \"num_unique_values\": 11,\n        \"samples\": [\n          0.8,\n          0.3,\n          0.7\n        ],\n        \"semantic_type\": \"\",\n        \"description\": \"\"\n      }\n    },\n    {\n      \"column\": \"Crime_Index\",\n      \"properties\": {\n        \"dtype\": \"number\",\n        \"std\": 9,\n        \"min\": 55,\n        \"max\": 85,\n        \"num_unique_values\": 12,\n        \"samples\": [\n          66,\n          55,\n          72\n        ],\n        \"semantic_type\": \"\",\n        \"description\": \"\"\n      }\n    },\n    {\n      \"column\": \"Renovated\",\n      \"properties\": {\n        \"dtype\": \"number\",\n        \"std\": 0,\n        \"min\": 0,\n        \"max\": 1,\n        \"num_unique_values\": 2,\n        \"samples\": [\n          1,\n          0\n        ],\n        \"semantic_type\": \"\",\n        \"description\": \"\"\n      }\n    },\n    {\n      \"column\": \"Neighborhood\",\n      \"properties\": {\n        \"dtype\": \"category\",\n        \"num_unique_values\": 3,\n        \"samples\": [\n          \"A\",\n          \"B\"\n        ],\n        \"semantic_type\": \"\",\n        \"description\": \"\"\n      }\n    }\n  ]\n}"
            }
          },
          "metadata": {},
          "execution_count": 96
        }
      ]
    },
    {
      "cell_type": "code",
      "source": [
        "df = pd.get_dummies(df, columns=['Neighborhood'], drop_first=True).astype(int)\n"
      ],
      "metadata": {
        "id": "CTA1jlHwqyQg"
      },
      "execution_count": 97,
      "outputs": []
    },
    {
      "cell_type": "code",
      "source": [
        "# Standardize numeric features (mean=0, std=1)\n",
        "scaler = StandardScaler()\n",
        "\n",
        "numeric_cols = ['Size_sqft', 'Age_yrs', 'Dist_Transit_km', 'Crime_Index']\n",
        "\n",
        "df[numeric_cols] = scaler.fit_transform(df[numeric_cols])"
      ],
      "metadata": {
        "id": "7RbNo381q_YD"
      },
      "execution_count": 98,
      "outputs": []
    },
    {
      "cell_type": "code",
      "source": [
        "# Split first 9 = Train, last 3 = test\n",
        "\n",
        "X_train = df.drop(['Rent', 'Id'], axis=1).iloc[:9]\n",
        "y_train = df['Rent'].iloc[:9]\n",
        "\n",
        "X_test = df.drop(['Rent', 'Id'], axis=1).iloc[-3:]\n",
        "y_test = df['Rent'].iloc[-3:]\n"
      ],
      "metadata": {
        "id": "euUmMt8st7l3"
      },
      "execution_count": 99,
      "outputs": []
    },
    {
      "cell_type": "code",
      "source": [
        "X_train.shape"
      ],
      "metadata": {
        "colab": {
          "base_uri": "https://localhost:8080/"
        },
        "id": "sTMYn7Alv1M5",
        "outputId": "9f1ee7c2-e1d8-4220-efd5-8a849b55f14e"
      },
      "execution_count": 100,
      "outputs": [
        {
          "output_type": "execute_result",
          "data": {
            "text/plain": [
              "(9, 8)"
            ]
          },
          "metadata": {},
          "execution_count": 100
        }
      ]
    },
    {
      "cell_type": "markdown",
      "source": [
        "# Baseline Linear Model"
      ],
      "metadata": {
        "id": "6TcRT6wiwJJN"
      }
    },
    {
      "cell_type": "code",
      "source": [
        "import statsmodels.api as sm"
      ],
      "metadata": {
        "id": "jZ67XTLWiVjv"
      },
      "execution_count": 101,
      "outputs": []
    },
    {
      "cell_type": "code",
      "source": [
        "X_train_const = sm.add_constant(X_train)\n",
        "X_test_const = sm.add_constant(X_test)"
      ],
      "metadata": {
        "id": "9ujDvPK0iWz_"
      },
      "execution_count": 102,
      "outputs": []
    },
    {
      "cell_type": "code",
      "source": [
        "ols_model = sm.OLS(y_train, X_train_const).fit()"
      ],
      "metadata": {
        "id": "WD94oon9iZjY"
      },
      "execution_count": 103,
      "outputs": []
    },
    {
      "cell_type": "code",
      "source": [
        "print(ols_model.summary())"
      ],
      "metadata": {
        "colab": {
          "base_uri": "https://localhost:8080/"
        },
        "id": "-wOGgZmwkX7_",
        "outputId": "6747cca6-94bb-4980-c012-022402e82ace"
      },
      "execution_count": 104,
      "outputs": [
        {
          "output_type": "stream",
          "name": "stdout",
          "text": [
            "                            OLS Regression Results                            \n",
            "==============================================================================\n",
            "Dep. Variable:                   Rent   R-squared:                       0.998\n",
            "Model:                            OLS   Adj. R-squared:                  0.982\n",
            "Method:                 Least Squares   F-statistic:                     64.99\n",
            "Date:                Tue, 21 Oct 2025   Prob (F-statistic):             0.0952\n",
            "Time:                        01:17:06   Log-Likelihood:                -41.930\n",
            "No. Observations:                   9   AIC:                             99.86\n",
            "Df Residuals:                       1   BIC:                             101.4\n",
            "Df Model:                           7                                         \n",
            "Covariance Type:            nonrobust                                         \n",
            "===================================================================================\n",
            "                      coef    std err          t      P>|t|      [0.025      0.975]\n",
            "-----------------------------------------------------------------------------------\n",
            "const            2552.6464    338.283      7.546      0.084   -1745.644    6850.937\n",
            "Size_sqft         135.1756    315.579      0.428      0.742   -3874.634    4144.985\n",
            "Beds               43.6804    160.303      0.272      0.831   -1993.163    2080.524\n",
            "Age_yrs           317.2696    371.698      0.854      0.550   -4405.599    5040.138\n",
            "Dist_Transit_km  -339.2268    102.331     -3.315      0.187   -1639.460     961.006\n",
            "Crime_Index      -768.9240    494.866     -1.554      0.364   -7056.788    5518.940\n",
            "Renovated        -207.8015    307.587     -0.676      0.622   -4116.066    3700.463\n",
            "Neighborhood_B     63.2750    150.349      0.421      0.746   -1847.091    1973.641\n",
            "Neighborhood_C    690.9691     82.830      8.342      0.076    -361.490    1743.428\n",
            "==============================================================================\n",
            "Omnibus:                        0.169   Durbin-Watson:                   2.697\n",
            "Prob(Omnibus):                  0.919   Jarque-Bera (JB):                0.279\n",
            "Skew:                           0.237   Prob(JB):                        0.870\n",
            "Kurtosis:                       2.279   Cond. No.                     4.53e+16\n",
            "==============================================================================\n",
            "\n",
            "Notes:\n",
            "[1] Standard Errors assume that the covariance matrix of the errors is correctly specified.\n",
            "[2] The smallest eigenvalue is 2.31e-32. This might indicate that there are\n",
            "strong multicollinearity problems or that the design matrix is singular.\n"
          ]
        }
      ]
    },
    {
      "cell_type": "code",
      "source": [
        "y_train_pred = ols_model.predict(X_train_const)\n",
        "y_test_pred = ols_model.predict(X_test_const)"
      ],
      "metadata": {
        "id": "3a2scJjDlhLb"
      },
      "execution_count": 105,
      "outputs": []
    },
    {
      "cell_type": "code",
      "source": [
        "# Training Metrics\n",
        "train_rmse = np.sqrt(mean_squared_error(y_train, y_train_pred))\n",
        "train_mae = mean_absolute_error(y_train, y_train_pred)\n",
        "train_r2 = r2_score(y_train, y_train_pred)\n",
        "train_adj_r2 = ols_model.rsquared_adj  # Get from statsmodels"
      ],
      "metadata": {
        "id": "NOPxk2JlluAR"
      },
      "execution_count": 106,
      "outputs": []
    },
    {
      "cell_type": "code",
      "source": [
        "# Test Metrics\n",
        "test_rmse = np.sqrt(mean_squared_error(y_test, y_test_pred))\n",
        "test_mae = mean_absolute_error(y_test, y_test_pred)"
      ],
      "metadata": {
        "id": "N8t0uIy9lwQz"
      },
      "execution_count": 107,
      "outputs": []
    },
    {
      "cell_type": "code",
      "source": [
        "# 4. Report results\n",
        "print(\"=\" * 50)\n",
        "print(\"MODEL PERFORMANCE METRICS\")\n",
        "print(\"=\" * 50)\n",
        "print(f\"\\nTRAIN SET:\")\n",
        "print(f\"  RMSE: ${train_rmse:.2f}\")\n",
        "print(f\"  MAE:  ${train_mae:.2f}\")\n",
        "print(f\"  R²:   {train_r2:.4f}\")\n",
        "print(f\"  Adj R²: {train_adj_r2:.4f}\")\n",
        "\n",
        "print(f\"\\nTEST SET:\")\n",
        "print(f\"  RMSE: ${test_rmse:.2f}\")\n",
        "print(f\"  MAE:  ${test_mae:.2f}\")"
      ],
      "metadata": {
        "colab": {
          "base_uri": "https://localhost:8080/"
        },
        "id": "1jkCCg5Qlyoc",
        "outputId": "20efd2c5-891b-4a0a-f1ef-4121a62c4f74"
      },
      "execution_count": 108,
      "outputs": [
        {
          "output_type": "stream",
          "name": "stdout",
          "text": [
            "==================================================\n",
            "MODEL PERFORMANCE METRICS\n",
            "==================================================\n",
            "\n",
            "TRAIN SET:\n",
            "  RMSE: $25.53\n",
            "  MAE:  $18.54\n",
            "  R²:   0.9978\n",
            "  Adj R²: 0.9825\n",
            "\n",
            "TEST SET:\n",
            "  RMSE: $387.60\n",
            "  MAE:  $269.07\n"
          ]
        }
      ]
    },
    {
      "cell_type": "code",
      "source": [
        "# 5. Interpret β1 (Size_sqft) and β6 (Renovated)\n",
        "print(\"\\n\" + \"=\" * 50)\n",
        "print(\"COEFFICIENT INTERPRETATIONS\")\n",
        "print(\"=\" * 50)\n",
        "coeffs = ols_model.params\n",
        "print(f\"\\nβ1 (Size_sqft): {coeffs['Size_sqft']:.2f}\")\n",
        "print(f\"β6 (Renovated): {coeffs['Renovated']:.2f}\")"
      ],
      "metadata": {
        "colab": {
          "base_uri": "https://localhost:8080/"
        },
        "id": "Ng-rn4SamOZQ",
        "outputId": "c35fef2e-4f74-4f60-b5aa-d0921cdecb9d"
      },
      "execution_count": 109,
      "outputs": [
        {
          "output_type": "stream",
          "name": "stdout",
          "text": [
            "\n",
            "==================================================\n",
            "COEFFICIENT INTERPRETATIONS\n",
            "==================================================\n",
            "\n",
            "β1 (Size_sqft): 135.18\n",
            "β6 (Renovated): -207.80\n"
          ]
        }
      ]
    },
    {
      "cell_type": "markdown",
      "source": [
        "**β1 (Size_sqft): $135.18**\n",
        "\n",
        "A one standard deviation increase in apartment size is associated with a $135.18 increase in monthly rent, holding all other variables constant.\n",
        "\n",
        "**β6 (Renovated coefficient): -$207.80**\n",
        "\n",
        "Renovated apartments rent for $207.80 less per month on average compared to non-renovated apartments, holding all other variables constant.\n",
        "\n",
        "**Note:** The negative coefficient for renovated apartments is counterintuitive and likely due to the small sample size (n=9)"
      ],
      "metadata": {
        "id": "oL2wthEb8Spi"
      }
    },
    {
      "cell_type": "markdown",
      "source": [
        "# Rich Features\n",
        "\n"
      ],
      "metadata": {
        "id": "kivBpSfE9GOp"
      }
    },
    {
      "cell_type": "code",
      "source": [
        "# Create a copy of train and test sets\n",
        "X_train_eng = X_train.copy()\n",
        "X_test_eng = X_test.copy()"
      ],
      "metadata": {
        "id": "-0ZZeU8N9qom"
      },
      "execution_count": 110,
      "outputs": []
    },
    {
      "cell_type": "code",
      "source": [
        "# Interaction: Size_sqft x bedrooms\n",
        "X_train_eng['Size_beds_interaction'] = X_train_eng['Size_sqft'] * X_train_eng['Beds']\n",
        "X_test_eng['Size_beds_interaction'] = X_test_eng['Size_sqft'] * X_test_eng['Beds']"
      ],
      "metadata": {
        "id": "H78pRgIF9IVL"
      },
      "execution_count": 111,
      "outputs": []
    },
    {
      "cell_type": "code",
      "source": [
        "# Polynomial: Size_sqft^2\n",
        "X_train_eng['Size_sqft_squared'] = X_train_eng['Size_sqft'] ** 2\n",
        "X_test_eng['Size_sqft_squared'] = X_test_eng['Size_sqft'] ** 2"
      ],
      "metadata": {
        "id": "AN210Yo692di"
      },
      "execution_count": 112,
      "outputs": []
    },
    {
      "cell_type": "code",
      "source": [
        "# Interaction: renovated x neighborhood_B\n",
        "X_train_eng['renovated_neighborhood_B'] = X_train_eng['Renovated'] * X_train_eng['Neighborhood_B']\n",
        "X_test_eng['renovated_neighborhood_B'] = X_test_eng['Renovated'] * X_test_eng['Neighborhood_B']"
      ],
      "metadata": {
        "id": "tKU7mG8T-rm-"
      },
      "execution_count": 113,
      "outputs": []
    },
    {
      "cell_type": "code",
      "source": [
        "# Refit the OLS Model\n",
        "X_train_eng_const = sm.add_constant(X_train_eng)\n",
        "X_test_eng_const = sm.add_constant(X_test_eng)"
      ],
      "metadata": {
        "id": "8LDAVwSO_Khe"
      },
      "execution_count": 114,
      "outputs": []
    },
    {
      "cell_type": "code",
      "source": [
        "ols_eng_model = sm.OLS(y_train, X_train_eng_const).fit()"
      ],
      "metadata": {
        "id": "23BB4QA6_ZBr"
      },
      "execution_count": 115,
      "outputs": []
    },
    {
      "cell_type": "code",
      "source": [
        "print(ols_eng_model.summary())"
      ],
      "metadata": {
        "colab": {
          "base_uri": "https://localhost:8080/"
        },
        "id": "eE0-a4vF_fgW",
        "outputId": "103d06e9-1e46-4ea7-bcab-2a53fa32a9ea"
      },
      "execution_count": 116,
      "outputs": [
        {
          "output_type": "stream",
          "name": "stdout",
          "text": [
            "                            OLS Regression Results                            \n",
            "==============================================================================\n",
            "Dep. Variable:                   Rent   R-squared:                       1.000\n",
            "Model:                            OLS   Adj. R-squared:                    nan\n",
            "Method:                 Least Squares   F-statistic:                       nan\n",
            "Date:                Tue, 21 Oct 2025   Prob (F-statistic):                nan\n",
            "Time:                        01:17:06   Log-Likelihood:                 223.23\n",
            "No. Observations:                   9   AIC:                            -428.5\n",
            "Df Residuals:                       0   BIC:                            -426.7\n",
            "Df Model:                           8                                         \n",
            "Covariance Type:            nonrobust                                         \n",
            "============================================================================================\n",
            "                               coef    std err          t      P>|t|      [0.025      0.975]\n",
            "--------------------------------------------------------------------------------------------\n",
            "const                     2550.6997        inf          0        nan         nan         nan\n",
            "Size_sqft                  503.5875        inf          0        nan         nan         nan\n",
            "Beds                        -4.8882        inf         -0        nan         nan         nan\n",
            "Age_yrs                   -303.8110        inf         -0        nan         nan         nan\n",
            "Dist_Transit_km           -287.4927        inf         -0        nan         nan         nan\n",
            "Crime_Index                -10.3482        inf         -0        nan         nan         nan\n",
            "Renovated                 -384.9105        inf         -0        nan         nan         nan\n",
            "Neighborhood_B              67.1527        inf          0        nan         nan         nan\n",
            "Neighborhood_C             714.7079        inf          0        nan         nan         nan\n",
            "Size_beds_interaction      -45.4000        inf         -0        nan         nan         nan\n",
            "Size_sqft_squared          154.5632        inf          0        nan         nan         nan\n",
            "renovated_neighborhood_B    67.1527        inf          0        nan         nan         nan\n",
            "==============================================================================\n",
            "Omnibus:                        1.179   Durbin-Watson:                   2.584\n",
            "Prob(Omnibus):                  0.555   Jarque-Bera (JB):                0.686\n",
            "Skew:                          -0.615   Prob(JB):                        0.710\n",
            "Kurtosis:                       2.439   Cond. No.                         75.5\n",
            "==============================================================================\n",
            "\n",
            "Notes:\n",
            "[1] Standard Errors assume that the covariance matrix of the errors is correctly specified.\n",
            "[2] The input rank is higher than the number of observations.\n"
          ]
        },
        {
          "output_type": "stream",
          "name": "stderr",
          "text": [
            "/usr/local/lib/python3.12/dist-packages/statsmodels/regression/linear_model.py:1795: RuntimeWarning: divide by zero encountered in divide\n",
            "  return 1 - (np.divide(self.nobs - self.k_constant, self.df_resid)\n",
            "/usr/local/lib/python3.12/dist-packages/statsmodels/regression/linear_model.py:1795: RuntimeWarning: invalid value encountered in scalar multiply\n",
            "  return 1 - (np.divide(self.nobs - self.k_constant, self.df_resid)\n",
            "/usr/local/lib/python3.12/dist-packages/statsmodels/regression/linear_model.py:1717: RuntimeWarning: divide by zero encountered in scalar divide\n",
            "  return np.dot(wresid, wresid) / self.df_resid\n"
          ]
        }
      ]
    },
    {
      "cell_type": "markdown",
      "source": [
        "**Baseline Model Adj R²:** 0.982  \n",
        "**Engineered Model Adj R²:** NaN (undefined)  \n",
        "**Change:** Undefined (complete degradation)\n",
        "\n",
        "**Interpretation:**\n",
        "The Adjusted R² dropped from 0.982 to undefined (NaN), which is a failure indicator. Adjusted R² penalizes model complexity by accounting for the number of predictors relative to sample size:\n",
        "\n",
        "Adj R² = 1 - [(1 - R²) × (n - 1) / (n - p - 1)]\n",
        "\n",
        "Where:\n",
        "- n = number of observations (9)\n",
        "- p = number of predictors\n",
        "\n",
        "In the baseline model: n - p - 1 = 9 - 7 - 1 = 1 degree of freedom\n",
        "In the engineered model: n - p - 1 = 9 - 11 - 1 = -3 (negative!)\n",
        "\n",
        "When degrees of freedom ≤ 0, Adjusted R² becomes mathematically undefined, indicating an overfitting model.\n"
      ],
      "metadata": {
        "id": "BdI91Yj7A6X6"
      }
    },
    {
      "cell_type": "code",
      "source": [
        "# Get predictions for ENGINEERED model\n",
        "y_train_pred_eng = ols_eng_model.predict(X_train_eng_const)\n",
        "y_test_pred_eng = ols_eng_model.predict(X_test_eng_const)"
      ],
      "metadata": {
        "id": "IAr2QqtPCLnO"
      },
      "execution_count": 117,
      "outputs": []
    },
    {
      "cell_type": "code",
      "source": [
        "# Training Metrics for Engineered Model\n",
        "train_rmse_eng = np.sqrt(mean_squared_error(y_train, y_train_pred_eng))\n",
        "train_mae_eng = mean_absolute_error(y_train, y_train_pred_eng)\n",
        "train_r2_eng = r2_score(y_train, y_train_pred_eng)\n",
        "train_adj_r2_eng = ols_eng_model.rsquared_adj"
      ],
      "metadata": {
        "id": "P3T7dpsuCNFo"
      },
      "execution_count": 118,
      "outputs": []
    },
    {
      "cell_type": "code",
      "source": [
        "# Test Metrics for Engineered Model\n",
        "test_rmse_eng = np.sqrt(mean_squared_error(y_test, y_test_pred_eng))\n",
        "test_mae_eng = mean_absolute_error(y_test, y_test_pred_eng)"
      ],
      "metadata": {
        "id": "ltitZuTMCW8N"
      },
      "execution_count": 119,
      "outputs": []
    },
    {
      "cell_type": "code",
      "source": [
        "# ============================================================\n",
        "# PART C: FEATURE-ENGINEERED MODEL - RESULTS\n",
        "# ============================================================\n",
        "\n",
        "print(\"=\" * 70)\n",
        "print(\"BASELINE vs FEATURE-ENGINEERED MODEL COMPARISON\")\n",
        "print(\"=\" * 70)\n",
        "\n",
        "comparison_df = pd.DataFrame({\n",
        "    'Metric': ['Train RMSE', 'Train MAE', 'Train R²', 'Train Adj R²',\n",
        "               'Test RMSE', 'Test MAE'],\n",
        "    'Baseline': [\n",
        "        f'${train_rmse:.2f}',\n",
        "        f'${train_mae:.2f}',\n",
        "        f'{train_r2:.4f}',\n",
        "        f'{train_adj_r2:.4f}',\n",
        "        f'${test_rmse:.2f}',\n",
        "        f'${test_mae:.2f}'\n",
        "    ],\n",
        "    'Engineered': [\n",
        "        f'${train_rmse_eng:.2f}',\n",
        "        f'${train_mae_eng:.2f}',\n",
        "        f'{train_r2_eng:.4f}',\n",
        "        'NaN',\n",
        "        f'${test_rmse_eng:.2f}',\n",
        "        f'${test_mae_eng:.2f}'\n",
        "    ]\n",
        "})\n",
        "\n",
        "print(\"\\n\", comparison_df.to_string(index=False))\n",
        "print(\"\\n\" + \"=\" * 70)"
      ],
      "metadata": {
        "colab": {
          "base_uri": "https://localhost:8080/"
        },
        "id": "2P-apk5UC0Lz",
        "outputId": "2ee4ed69-1a97-49b8-f460-f497625ad8a6"
      },
      "execution_count": 120,
      "outputs": [
        {
          "output_type": "stream",
          "name": "stdout",
          "text": [
            "======================================================================\n",
            "BASELINE vs FEATURE-ENGINEERED MODEL COMPARISON\n",
            "======================================================================\n",
            "\n",
            "       Metric Baseline Engineered\n",
            "  Train RMSE   $25.53      $0.00\n",
            "   Train MAE   $18.54      $0.00\n",
            "    Train R²   0.9978     1.0000\n",
            "Train Adj R²   0.9825        NaN\n",
            "   Test RMSE  $387.60    $381.16\n",
            "    Test MAE  $269.07    $255.22\n",
            "\n",
            "======================================================================\n"
          ]
        }
      ]
    },
    {
      "cell_type": "markdown",
      "source": [
        "## Test Error Analysis\n",
        "\n",
        "### RMSE (Root Mean Squared Error)\n",
        "- **Baseline:** 387.60\n",
        "- **Engineered:** 381.16\n",
        "- **Change:** -6.44 (1.7% decrease)\n",
        "\n",
        "### MAE (Mean Absolute Error)\n",
        "- **Baseline:** 269.07\n",
        "- **Engineered:** 255.22\n",
        "- **Change:** -13.85 (5.1% decrease)\n",
        "\n",
        "### Interpretation\n",
        "\n",
        "Both test RMSE and MAE decreased slightly in the engineered model, which might appear to indicate better performance. However, this is misleading because the engineered model achieved perfect training performance, train RSME and MAE both are 0, indicating the model is just memorizing the baseline model and not learning. It make sense since the dataset is small which would cause high bias and inablity to learn.\n",
        "\n",
        "Overall, the baseline model is strongly preferred. Both models exhibit overfitting due to the small dataset (n=9)."
      ],
      "metadata": {
        "id": "OSGZJdEvDBuR"
      }
    },
    {
      "cell_type": "markdown",
      "source": [
        "# Regularization and Cross Validation (CV)"
      ],
      "metadata": {
        "id": "g-luI90-JCyC"
      }
    },
    {
      "cell_type": "markdown",
      "source": [
        "Ridge and Lasso Regression are two popular techniques in ML for regularizing linear models to avoid overfitting and improve predictive performance. Both methods add a penalty term to the model's cost function to constrain the coefficients.\n",
        "\n",
        "- Ridge Regression (L2 regularization) adds the squared magnitude of the coefficients as a penalty\n",
        "-     Loss = MSE + λ Σ(wi²)\n",
        "- Lasso Regression (L1 regularization) introduces a penalty based on the absolute value of the coefficients\n",
        "-     Loss = MSE + λ Σ|wi|"
      ],
      "metadata": {
        "id": "7vC5iknAK5F8"
      }
    },
    {
      "cell_type": "code",
      "source": [
        "from sklearn.model_selection import cross_val_score\n",
        "from sklearn.linear_model import Ridge, Lasso"
      ],
      "metadata": {
        "id": "S_dnhAIjJG8K"
      },
      "execution_count": 121,
      "outputs": []
    },
    {
      "cell_type": "code",
      "source": [
        "# Define alpha values to test\n",
        "alphas = [0.001, 0.01, 0.1, 1, 10]"
      ],
      "metadata": {
        "id": "U4KmZtETM2oC"
      },
      "execution_count": 122,
      "outputs": []
    },
    {
      "cell_type": "code",
      "source": [
        "# Ridge Regresson\n",
        "ridge_results = []\n",
        "\n",
        "for alpha in alphas:\n",
        "  ridge_model = Ridge(alpha=alpha)\n",
        "\n",
        "  cv_scores = cross_val_score(ridge_model, X_train_eng, y_train, cv=5, scoring='neg_root_mean_squared_error')\n",
        "  mean_rmse = -cv_scores.mean()\n",
        "  ridge_results.append({'alpha': alpha, 'mean_cv_rmse': mean_rmse})\n",
        "  print(f\"α = {alpha:6.3f} | Mean CV RMSE: ${mean_rmse:.2f}\")\n",
        "\n"
      ],
      "metadata": {
        "colab": {
          "base_uri": "https://localhost:8080/"
        },
        "id": "PeubqHH7NY6a",
        "outputId": "820ac337-034e-497a-a2df-6971d68659f5"
      },
      "execution_count": 123,
      "outputs": [
        {
          "output_type": "stream",
          "name": "stdout",
          "text": [
            "α =  0.001 | Mean CV RMSE: $161.41\n",
            "α =  0.010 | Mean CV RMSE: $135.88\n",
            "α =  0.100 | Mean CV RMSE: $80.23\n",
            "α =  1.000 | Mean CV RMSE: $72.38\n",
            "α = 10.000 | Mean CV RMSE: $121.51\n"
          ]
        }
      ]
    },
    {
      "cell_type": "code",
      "source": [
        "lasso_results = []\n",
        "\n",
        "for alpha in alphas:\n",
        "    lasso_model = Lasso(alpha=alpha, max_iter=10000)\n",
        "    cv_scores = cross_val_score(lasso_model, X_train_eng, y_train,\n",
        "                                 cv=5, scoring='neg_root_mean_squared_error')\n",
        "    mean_rmse = -cv_scores.mean()\n",
        "    lasso_results.append({'alpha': alpha, 'mean_cv_rmse': mean_rmse})\n",
        "    print(f\"α = {alpha:6.3f} | Mean CV RMSE: ${mean_rmse:.2f}\")"
      ],
      "metadata": {
        "colab": {
          "base_uri": "https://localhost:8080/"
        },
        "id": "r6CDGTkHO7K8",
        "outputId": "55b5a9e2-0f9e-49e3-f2e2-30c436182bb7"
      },
      "execution_count": 124,
      "outputs": [
        {
          "output_type": "stream",
          "name": "stdout",
          "text": [
            "α =  0.001 | Mean CV RMSE: $102.80\n",
            "α =  0.010 | Mean CV RMSE: $107.77\n",
            "α =  0.100 | Mean CV RMSE: $154.28\n",
            "α =  1.000 | Mean CV RMSE: $130.25\n",
            "α = 10.000 | Mean CV RMSE: $86.54\n"
          ]
        }
      ]
    },
    {
      "cell_type": "markdown",
      "source": [
        "Ridge:\n",
        "- Best a: 1\n",
        "- CV RMSE: 72.38\n",
        "\n",
        "Lasso:\n",
        "- Best a: 10.0\n",
        "- CV RMSE: 86.54\n",
        "\n",
        "Ridge performed better in CV but"
      ],
      "metadata": {
        "id": "Q0dg4_wIPT0S"
      }
    },
    {
      "cell_type": "markdown",
      "source": [
        "Evaluate Ridge and Lasso on test set and compare against feature-engineered OLS."
      ],
      "metadata": {
        "id": "IFRml0FKQEcl"
      }
    },
    {
      "cell_type": "code",
      "source": [
        "ridge_final = Ridge(alpha=1)\n",
        "ridge_final.fit(X_train_eng, y_train)\n"
      ],
      "metadata": {
        "colab": {
          "base_uri": "https://localhost:8080/",
          "height": 80
        },
        "id": "JCZW3CohQFji",
        "outputId": "2d592353-adc4-4545-a852-25918cbe4f04"
      },
      "execution_count": 125,
      "outputs": [
        {
          "output_type": "execute_result",
          "data": {
            "text/plain": [
              "Ridge(alpha=1)"
            ],
            "text/html": [
              "<style>#sk-container-id-3 {\n",
              "  /* Definition of color scheme common for light and dark mode */\n",
              "  --sklearn-color-text: #000;\n",
              "  --sklearn-color-text-muted: #666;\n",
              "  --sklearn-color-line: gray;\n",
              "  /* Definition of color scheme for unfitted estimators */\n",
              "  --sklearn-color-unfitted-level-0: #fff5e6;\n",
              "  --sklearn-color-unfitted-level-1: #f6e4d2;\n",
              "  --sklearn-color-unfitted-level-2: #ffe0b3;\n",
              "  --sklearn-color-unfitted-level-3: chocolate;\n",
              "  /* Definition of color scheme for fitted estimators */\n",
              "  --sklearn-color-fitted-level-0: #f0f8ff;\n",
              "  --sklearn-color-fitted-level-1: #d4ebff;\n",
              "  --sklearn-color-fitted-level-2: #b3dbfd;\n",
              "  --sklearn-color-fitted-level-3: cornflowerblue;\n",
              "\n",
              "  /* Specific color for light theme */\n",
              "  --sklearn-color-text-on-default-background: var(--sg-text-color, var(--theme-code-foreground, var(--jp-content-font-color1, black)));\n",
              "  --sklearn-color-background: var(--sg-background-color, var(--theme-background, var(--jp-layout-color0, white)));\n",
              "  --sklearn-color-border-box: var(--sg-text-color, var(--theme-code-foreground, var(--jp-content-font-color1, black)));\n",
              "  --sklearn-color-icon: #696969;\n",
              "\n",
              "  @media (prefers-color-scheme: dark) {\n",
              "    /* Redefinition of color scheme for dark theme */\n",
              "    --sklearn-color-text-on-default-background: var(--sg-text-color, var(--theme-code-foreground, var(--jp-content-font-color1, white)));\n",
              "    --sklearn-color-background: var(--sg-background-color, var(--theme-background, var(--jp-layout-color0, #111)));\n",
              "    --sklearn-color-border-box: var(--sg-text-color, var(--theme-code-foreground, var(--jp-content-font-color1, white)));\n",
              "    --sklearn-color-icon: #878787;\n",
              "  }\n",
              "}\n",
              "\n",
              "#sk-container-id-3 {\n",
              "  color: var(--sklearn-color-text);\n",
              "}\n",
              "\n",
              "#sk-container-id-3 pre {\n",
              "  padding: 0;\n",
              "}\n",
              "\n",
              "#sk-container-id-3 input.sk-hidden--visually {\n",
              "  border: 0;\n",
              "  clip: rect(1px 1px 1px 1px);\n",
              "  clip: rect(1px, 1px, 1px, 1px);\n",
              "  height: 1px;\n",
              "  margin: -1px;\n",
              "  overflow: hidden;\n",
              "  padding: 0;\n",
              "  position: absolute;\n",
              "  width: 1px;\n",
              "}\n",
              "\n",
              "#sk-container-id-3 div.sk-dashed-wrapped {\n",
              "  border: 1px dashed var(--sklearn-color-line);\n",
              "  margin: 0 0.4em 0.5em 0.4em;\n",
              "  box-sizing: border-box;\n",
              "  padding-bottom: 0.4em;\n",
              "  background-color: var(--sklearn-color-background);\n",
              "}\n",
              "\n",
              "#sk-container-id-3 div.sk-container {\n",
              "  /* jupyter's `normalize.less` sets `[hidden] { display: none; }`\n",
              "     but bootstrap.min.css set `[hidden] { display: none !important; }`\n",
              "     so we also need the `!important` here to be able to override the\n",
              "     default hidden behavior on the sphinx rendered scikit-learn.org.\n",
              "     See: https://github.com/scikit-learn/scikit-learn/issues/21755 */\n",
              "  display: inline-block !important;\n",
              "  position: relative;\n",
              "}\n",
              "\n",
              "#sk-container-id-3 div.sk-text-repr-fallback {\n",
              "  display: none;\n",
              "}\n",
              "\n",
              "div.sk-parallel-item,\n",
              "div.sk-serial,\n",
              "div.sk-item {\n",
              "  /* draw centered vertical line to link estimators */\n",
              "  background-image: linear-gradient(var(--sklearn-color-text-on-default-background), var(--sklearn-color-text-on-default-background));\n",
              "  background-size: 2px 100%;\n",
              "  background-repeat: no-repeat;\n",
              "  background-position: center center;\n",
              "}\n",
              "\n",
              "/* Parallel-specific style estimator block */\n",
              "\n",
              "#sk-container-id-3 div.sk-parallel-item::after {\n",
              "  content: \"\";\n",
              "  width: 100%;\n",
              "  border-bottom: 2px solid var(--sklearn-color-text-on-default-background);\n",
              "  flex-grow: 1;\n",
              "}\n",
              "\n",
              "#sk-container-id-3 div.sk-parallel {\n",
              "  display: flex;\n",
              "  align-items: stretch;\n",
              "  justify-content: center;\n",
              "  background-color: var(--sklearn-color-background);\n",
              "  position: relative;\n",
              "}\n",
              "\n",
              "#sk-container-id-3 div.sk-parallel-item {\n",
              "  display: flex;\n",
              "  flex-direction: column;\n",
              "}\n",
              "\n",
              "#sk-container-id-3 div.sk-parallel-item:first-child::after {\n",
              "  align-self: flex-end;\n",
              "  width: 50%;\n",
              "}\n",
              "\n",
              "#sk-container-id-3 div.sk-parallel-item:last-child::after {\n",
              "  align-self: flex-start;\n",
              "  width: 50%;\n",
              "}\n",
              "\n",
              "#sk-container-id-3 div.sk-parallel-item:only-child::after {\n",
              "  width: 0;\n",
              "}\n",
              "\n",
              "/* Serial-specific style estimator block */\n",
              "\n",
              "#sk-container-id-3 div.sk-serial {\n",
              "  display: flex;\n",
              "  flex-direction: column;\n",
              "  align-items: center;\n",
              "  background-color: var(--sklearn-color-background);\n",
              "  padding-right: 1em;\n",
              "  padding-left: 1em;\n",
              "}\n",
              "\n",
              "\n",
              "/* Toggleable style: style used for estimator/Pipeline/ColumnTransformer box that is\n",
              "clickable and can be expanded/collapsed.\n",
              "- Pipeline and ColumnTransformer use this feature and define the default style\n",
              "- Estimators will overwrite some part of the style using the `sk-estimator` class\n",
              "*/\n",
              "\n",
              "/* Pipeline and ColumnTransformer style (default) */\n",
              "\n",
              "#sk-container-id-3 div.sk-toggleable {\n",
              "  /* Default theme specific background. It is overwritten whether we have a\n",
              "  specific estimator or a Pipeline/ColumnTransformer */\n",
              "  background-color: var(--sklearn-color-background);\n",
              "}\n",
              "\n",
              "/* Toggleable label */\n",
              "#sk-container-id-3 label.sk-toggleable__label {\n",
              "  cursor: pointer;\n",
              "  display: flex;\n",
              "  width: 100%;\n",
              "  margin-bottom: 0;\n",
              "  padding: 0.5em;\n",
              "  box-sizing: border-box;\n",
              "  text-align: center;\n",
              "  align-items: start;\n",
              "  justify-content: space-between;\n",
              "  gap: 0.5em;\n",
              "}\n",
              "\n",
              "#sk-container-id-3 label.sk-toggleable__label .caption {\n",
              "  font-size: 0.6rem;\n",
              "  font-weight: lighter;\n",
              "  color: var(--sklearn-color-text-muted);\n",
              "}\n",
              "\n",
              "#sk-container-id-3 label.sk-toggleable__label-arrow:before {\n",
              "  /* Arrow on the left of the label */\n",
              "  content: \"▸\";\n",
              "  float: left;\n",
              "  margin-right: 0.25em;\n",
              "  color: var(--sklearn-color-icon);\n",
              "}\n",
              "\n",
              "#sk-container-id-3 label.sk-toggleable__label-arrow:hover:before {\n",
              "  color: var(--sklearn-color-text);\n",
              "}\n",
              "\n",
              "/* Toggleable content - dropdown */\n",
              "\n",
              "#sk-container-id-3 div.sk-toggleable__content {\n",
              "  max-height: 0;\n",
              "  max-width: 0;\n",
              "  overflow: hidden;\n",
              "  text-align: left;\n",
              "  /* unfitted */\n",
              "  background-color: var(--sklearn-color-unfitted-level-0);\n",
              "}\n",
              "\n",
              "#sk-container-id-3 div.sk-toggleable__content.fitted {\n",
              "  /* fitted */\n",
              "  background-color: var(--sklearn-color-fitted-level-0);\n",
              "}\n",
              "\n",
              "#sk-container-id-3 div.sk-toggleable__content pre {\n",
              "  margin: 0.2em;\n",
              "  border-radius: 0.25em;\n",
              "  color: var(--sklearn-color-text);\n",
              "  /* unfitted */\n",
              "  background-color: var(--sklearn-color-unfitted-level-0);\n",
              "}\n",
              "\n",
              "#sk-container-id-3 div.sk-toggleable__content.fitted pre {\n",
              "  /* unfitted */\n",
              "  background-color: var(--sklearn-color-fitted-level-0);\n",
              "}\n",
              "\n",
              "#sk-container-id-3 input.sk-toggleable__control:checked~div.sk-toggleable__content {\n",
              "  /* Expand drop-down */\n",
              "  max-height: 200px;\n",
              "  max-width: 100%;\n",
              "  overflow: auto;\n",
              "}\n",
              "\n",
              "#sk-container-id-3 input.sk-toggleable__control:checked~label.sk-toggleable__label-arrow:before {\n",
              "  content: \"▾\";\n",
              "}\n",
              "\n",
              "/* Pipeline/ColumnTransformer-specific style */\n",
              "\n",
              "#sk-container-id-3 div.sk-label input.sk-toggleable__control:checked~label.sk-toggleable__label {\n",
              "  color: var(--sklearn-color-text);\n",
              "  background-color: var(--sklearn-color-unfitted-level-2);\n",
              "}\n",
              "\n",
              "#sk-container-id-3 div.sk-label.fitted input.sk-toggleable__control:checked~label.sk-toggleable__label {\n",
              "  background-color: var(--sklearn-color-fitted-level-2);\n",
              "}\n",
              "\n",
              "/* Estimator-specific style */\n",
              "\n",
              "/* Colorize estimator box */\n",
              "#sk-container-id-3 div.sk-estimator input.sk-toggleable__control:checked~label.sk-toggleable__label {\n",
              "  /* unfitted */\n",
              "  background-color: var(--sklearn-color-unfitted-level-2);\n",
              "}\n",
              "\n",
              "#sk-container-id-3 div.sk-estimator.fitted input.sk-toggleable__control:checked~label.sk-toggleable__label {\n",
              "  /* fitted */\n",
              "  background-color: var(--sklearn-color-fitted-level-2);\n",
              "}\n",
              "\n",
              "#sk-container-id-3 div.sk-label label.sk-toggleable__label,\n",
              "#sk-container-id-3 div.sk-label label {\n",
              "  /* The background is the default theme color */\n",
              "  color: var(--sklearn-color-text-on-default-background);\n",
              "}\n",
              "\n",
              "/* On hover, darken the color of the background */\n",
              "#sk-container-id-3 div.sk-label:hover label.sk-toggleable__label {\n",
              "  color: var(--sklearn-color-text);\n",
              "  background-color: var(--sklearn-color-unfitted-level-2);\n",
              "}\n",
              "\n",
              "/* Label box, darken color on hover, fitted */\n",
              "#sk-container-id-3 div.sk-label.fitted:hover label.sk-toggleable__label.fitted {\n",
              "  color: var(--sklearn-color-text);\n",
              "  background-color: var(--sklearn-color-fitted-level-2);\n",
              "}\n",
              "\n",
              "/* Estimator label */\n",
              "\n",
              "#sk-container-id-3 div.sk-label label {\n",
              "  font-family: monospace;\n",
              "  font-weight: bold;\n",
              "  display: inline-block;\n",
              "  line-height: 1.2em;\n",
              "}\n",
              "\n",
              "#sk-container-id-3 div.sk-label-container {\n",
              "  text-align: center;\n",
              "}\n",
              "\n",
              "/* Estimator-specific */\n",
              "#sk-container-id-3 div.sk-estimator {\n",
              "  font-family: monospace;\n",
              "  border: 1px dotted var(--sklearn-color-border-box);\n",
              "  border-radius: 0.25em;\n",
              "  box-sizing: border-box;\n",
              "  margin-bottom: 0.5em;\n",
              "  /* unfitted */\n",
              "  background-color: var(--sklearn-color-unfitted-level-0);\n",
              "}\n",
              "\n",
              "#sk-container-id-3 div.sk-estimator.fitted {\n",
              "  /* fitted */\n",
              "  background-color: var(--sklearn-color-fitted-level-0);\n",
              "}\n",
              "\n",
              "/* on hover */\n",
              "#sk-container-id-3 div.sk-estimator:hover {\n",
              "  /* unfitted */\n",
              "  background-color: var(--sklearn-color-unfitted-level-2);\n",
              "}\n",
              "\n",
              "#sk-container-id-3 div.sk-estimator.fitted:hover {\n",
              "  /* fitted */\n",
              "  background-color: var(--sklearn-color-fitted-level-2);\n",
              "}\n",
              "\n",
              "/* Specification for estimator info (e.g. \"i\" and \"?\") */\n",
              "\n",
              "/* Common style for \"i\" and \"?\" */\n",
              "\n",
              ".sk-estimator-doc-link,\n",
              "a:link.sk-estimator-doc-link,\n",
              "a:visited.sk-estimator-doc-link {\n",
              "  float: right;\n",
              "  font-size: smaller;\n",
              "  line-height: 1em;\n",
              "  font-family: monospace;\n",
              "  background-color: var(--sklearn-color-background);\n",
              "  border-radius: 1em;\n",
              "  height: 1em;\n",
              "  width: 1em;\n",
              "  text-decoration: none !important;\n",
              "  margin-left: 0.5em;\n",
              "  text-align: center;\n",
              "  /* unfitted */\n",
              "  border: var(--sklearn-color-unfitted-level-1) 1pt solid;\n",
              "  color: var(--sklearn-color-unfitted-level-1);\n",
              "}\n",
              "\n",
              ".sk-estimator-doc-link.fitted,\n",
              "a:link.sk-estimator-doc-link.fitted,\n",
              "a:visited.sk-estimator-doc-link.fitted {\n",
              "  /* fitted */\n",
              "  border: var(--sklearn-color-fitted-level-1) 1pt solid;\n",
              "  color: var(--sklearn-color-fitted-level-1);\n",
              "}\n",
              "\n",
              "/* On hover */\n",
              "div.sk-estimator:hover .sk-estimator-doc-link:hover,\n",
              ".sk-estimator-doc-link:hover,\n",
              "div.sk-label-container:hover .sk-estimator-doc-link:hover,\n",
              ".sk-estimator-doc-link:hover {\n",
              "  /* unfitted */\n",
              "  background-color: var(--sklearn-color-unfitted-level-3);\n",
              "  color: var(--sklearn-color-background);\n",
              "  text-decoration: none;\n",
              "}\n",
              "\n",
              "div.sk-estimator.fitted:hover .sk-estimator-doc-link.fitted:hover,\n",
              ".sk-estimator-doc-link.fitted:hover,\n",
              "div.sk-label-container:hover .sk-estimator-doc-link.fitted:hover,\n",
              ".sk-estimator-doc-link.fitted:hover {\n",
              "  /* fitted */\n",
              "  background-color: var(--sklearn-color-fitted-level-3);\n",
              "  color: var(--sklearn-color-background);\n",
              "  text-decoration: none;\n",
              "}\n",
              "\n",
              "/* Span, style for the box shown on hovering the info icon */\n",
              ".sk-estimator-doc-link span {\n",
              "  display: none;\n",
              "  z-index: 9999;\n",
              "  position: relative;\n",
              "  font-weight: normal;\n",
              "  right: .2ex;\n",
              "  padding: .5ex;\n",
              "  margin: .5ex;\n",
              "  width: min-content;\n",
              "  min-width: 20ex;\n",
              "  max-width: 50ex;\n",
              "  color: var(--sklearn-color-text);\n",
              "  box-shadow: 2pt 2pt 4pt #999;\n",
              "  /* unfitted */\n",
              "  background: var(--sklearn-color-unfitted-level-0);\n",
              "  border: .5pt solid var(--sklearn-color-unfitted-level-3);\n",
              "}\n",
              "\n",
              ".sk-estimator-doc-link.fitted span {\n",
              "  /* fitted */\n",
              "  background: var(--sklearn-color-fitted-level-0);\n",
              "  border: var(--sklearn-color-fitted-level-3);\n",
              "}\n",
              "\n",
              ".sk-estimator-doc-link:hover span {\n",
              "  display: block;\n",
              "}\n",
              "\n",
              "/* \"?\"-specific style due to the `<a>` HTML tag */\n",
              "\n",
              "#sk-container-id-3 a.estimator_doc_link {\n",
              "  float: right;\n",
              "  font-size: 1rem;\n",
              "  line-height: 1em;\n",
              "  font-family: monospace;\n",
              "  background-color: var(--sklearn-color-background);\n",
              "  border-radius: 1rem;\n",
              "  height: 1rem;\n",
              "  width: 1rem;\n",
              "  text-decoration: none;\n",
              "  /* unfitted */\n",
              "  color: var(--sklearn-color-unfitted-level-1);\n",
              "  border: var(--sklearn-color-unfitted-level-1) 1pt solid;\n",
              "}\n",
              "\n",
              "#sk-container-id-3 a.estimator_doc_link.fitted {\n",
              "  /* fitted */\n",
              "  border: var(--sklearn-color-fitted-level-1) 1pt solid;\n",
              "  color: var(--sklearn-color-fitted-level-1);\n",
              "}\n",
              "\n",
              "/* On hover */\n",
              "#sk-container-id-3 a.estimator_doc_link:hover {\n",
              "  /* unfitted */\n",
              "  background-color: var(--sklearn-color-unfitted-level-3);\n",
              "  color: var(--sklearn-color-background);\n",
              "  text-decoration: none;\n",
              "}\n",
              "\n",
              "#sk-container-id-3 a.estimator_doc_link.fitted:hover {\n",
              "  /* fitted */\n",
              "  background-color: var(--sklearn-color-fitted-level-3);\n",
              "}\n",
              "</style><div id=\"sk-container-id-3\" class=\"sk-top-container\"><div class=\"sk-text-repr-fallback\"><pre>Ridge(alpha=1)</pre><b>In a Jupyter environment, please rerun this cell to show the HTML representation or trust the notebook. <br />On GitHub, the HTML representation is unable to render, please try loading this page with nbviewer.org.</b></div><div class=\"sk-container\" hidden><div class=\"sk-item\"><div class=\"sk-estimator fitted sk-toggleable\"><input class=\"sk-toggleable__control sk-hidden--visually\" id=\"sk-estimator-id-3\" type=\"checkbox\" checked><label for=\"sk-estimator-id-3\" class=\"sk-toggleable__label fitted sk-toggleable__label-arrow\"><div><div>Ridge</div></div><div><a class=\"sk-estimator-doc-link fitted\" rel=\"noreferrer\" target=\"_blank\" href=\"https://scikit-learn.org/1.6/modules/generated/sklearn.linear_model.Ridge.html\">?<span>Documentation for Ridge</span></a><span class=\"sk-estimator-doc-link fitted\">i<span>Fitted</span></span></div></label><div class=\"sk-toggleable__content fitted\"><pre>Ridge(alpha=1)</pre></div> </div></div></div></div>"
            ]
          },
          "metadata": {},
          "execution_count": 125
        }
      ]
    },
    {
      "cell_type": "code",
      "source": [
        "lasso_final = Lasso(alpha=10)\n",
        "lasso_final.fit(X_train_eng, y_train)"
      ],
      "metadata": {
        "colab": {
          "base_uri": "https://localhost:8080/",
          "height": 80
        },
        "id": "wR8Rd1M8QWb0",
        "outputId": "f2e33cec-a656-4bf0-b7ef-a41ffed39278"
      },
      "execution_count": 126,
      "outputs": [
        {
          "output_type": "execute_result",
          "data": {
            "text/plain": [
              "Lasso(alpha=10)"
            ],
            "text/html": [
              "<style>#sk-container-id-4 {\n",
              "  /* Definition of color scheme common for light and dark mode */\n",
              "  --sklearn-color-text: #000;\n",
              "  --sklearn-color-text-muted: #666;\n",
              "  --sklearn-color-line: gray;\n",
              "  /* Definition of color scheme for unfitted estimators */\n",
              "  --sklearn-color-unfitted-level-0: #fff5e6;\n",
              "  --sklearn-color-unfitted-level-1: #f6e4d2;\n",
              "  --sklearn-color-unfitted-level-2: #ffe0b3;\n",
              "  --sklearn-color-unfitted-level-3: chocolate;\n",
              "  /* Definition of color scheme for fitted estimators */\n",
              "  --sklearn-color-fitted-level-0: #f0f8ff;\n",
              "  --sklearn-color-fitted-level-1: #d4ebff;\n",
              "  --sklearn-color-fitted-level-2: #b3dbfd;\n",
              "  --sklearn-color-fitted-level-3: cornflowerblue;\n",
              "\n",
              "  /* Specific color for light theme */\n",
              "  --sklearn-color-text-on-default-background: var(--sg-text-color, var(--theme-code-foreground, var(--jp-content-font-color1, black)));\n",
              "  --sklearn-color-background: var(--sg-background-color, var(--theme-background, var(--jp-layout-color0, white)));\n",
              "  --sklearn-color-border-box: var(--sg-text-color, var(--theme-code-foreground, var(--jp-content-font-color1, black)));\n",
              "  --sklearn-color-icon: #696969;\n",
              "\n",
              "  @media (prefers-color-scheme: dark) {\n",
              "    /* Redefinition of color scheme for dark theme */\n",
              "    --sklearn-color-text-on-default-background: var(--sg-text-color, var(--theme-code-foreground, var(--jp-content-font-color1, white)));\n",
              "    --sklearn-color-background: var(--sg-background-color, var(--theme-background, var(--jp-layout-color0, #111)));\n",
              "    --sklearn-color-border-box: var(--sg-text-color, var(--theme-code-foreground, var(--jp-content-font-color1, white)));\n",
              "    --sklearn-color-icon: #878787;\n",
              "  }\n",
              "}\n",
              "\n",
              "#sk-container-id-4 {\n",
              "  color: var(--sklearn-color-text);\n",
              "}\n",
              "\n",
              "#sk-container-id-4 pre {\n",
              "  padding: 0;\n",
              "}\n",
              "\n",
              "#sk-container-id-4 input.sk-hidden--visually {\n",
              "  border: 0;\n",
              "  clip: rect(1px 1px 1px 1px);\n",
              "  clip: rect(1px, 1px, 1px, 1px);\n",
              "  height: 1px;\n",
              "  margin: -1px;\n",
              "  overflow: hidden;\n",
              "  padding: 0;\n",
              "  position: absolute;\n",
              "  width: 1px;\n",
              "}\n",
              "\n",
              "#sk-container-id-4 div.sk-dashed-wrapped {\n",
              "  border: 1px dashed var(--sklearn-color-line);\n",
              "  margin: 0 0.4em 0.5em 0.4em;\n",
              "  box-sizing: border-box;\n",
              "  padding-bottom: 0.4em;\n",
              "  background-color: var(--sklearn-color-background);\n",
              "}\n",
              "\n",
              "#sk-container-id-4 div.sk-container {\n",
              "  /* jupyter's `normalize.less` sets `[hidden] { display: none; }`\n",
              "     but bootstrap.min.css set `[hidden] { display: none !important; }`\n",
              "     so we also need the `!important` here to be able to override the\n",
              "     default hidden behavior on the sphinx rendered scikit-learn.org.\n",
              "     See: https://github.com/scikit-learn/scikit-learn/issues/21755 */\n",
              "  display: inline-block !important;\n",
              "  position: relative;\n",
              "}\n",
              "\n",
              "#sk-container-id-4 div.sk-text-repr-fallback {\n",
              "  display: none;\n",
              "}\n",
              "\n",
              "div.sk-parallel-item,\n",
              "div.sk-serial,\n",
              "div.sk-item {\n",
              "  /* draw centered vertical line to link estimators */\n",
              "  background-image: linear-gradient(var(--sklearn-color-text-on-default-background), var(--sklearn-color-text-on-default-background));\n",
              "  background-size: 2px 100%;\n",
              "  background-repeat: no-repeat;\n",
              "  background-position: center center;\n",
              "}\n",
              "\n",
              "/* Parallel-specific style estimator block */\n",
              "\n",
              "#sk-container-id-4 div.sk-parallel-item::after {\n",
              "  content: \"\";\n",
              "  width: 100%;\n",
              "  border-bottom: 2px solid var(--sklearn-color-text-on-default-background);\n",
              "  flex-grow: 1;\n",
              "}\n",
              "\n",
              "#sk-container-id-4 div.sk-parallel {\n",
              "  display: flex;\n",
              "  align-items: stretch;\n",
              "  justify-content: center;\n",
              "  background-color: var(--sklearn-color-background);\n",
              "  position: relative;\n",
              "}\n",
              "\n",
              "#sk-container-id-4 div.sk-parallel-item {\n",
              "  display: flex;\n",
              "  flex-direction: column;\n",
              "}\n",
              "\n",
              "#sk-container-id-4 div.sk-parallel-item:first-child::after {\n",
              "  align-self: flex-end;\n",
              "  width: 50%;\n",
              "}\n",
              "\n",
              "#sk-container-id-4 div.sk-parallel-item:last-child::after {\n",
              "  align-self: flex-start;\n",
              "  width: 50%;\n",
              "}\n",
              "\n",
              "#sk-container-id-4 div.sk-parallel-item:only-child::after {\n",
              "  width: 0;\n",
              "}\n",
              "\n",
              "/* Serial-specific style estimator block */\n",
              "\n",
              "#sk-container-id-4 div.sk-serial {\n",
              "  display: flex;\n",
              "  flex-direction: column;\n",
              "  align-items: center;\n",
              "  background-color: var(--sklearn-color-background);\n",
              "  padding-right: 1em;\n",
              "  padding-left: 1em;\n",
              "}\n",
              "\n",
              "\n",
              "/* Toggleable style: style used for estimator/Pipeline/ColumnTransformer box that is\n",
              "clickable and can be expanded/collapsed.\n",
              "- Pipeline and ColumnTransformer use this feature and define the default style\n",
              "- Estimators will overwrite some part of the style using the `sk-estimator` class\n",
              "*/\n",
              "\n",
              "/* Pipeline and ColumnTransformer style (default) */\n",
              "\n",
              "#sk-container-id-4 div.sk-toggleable {\n",
              "  /* Default theme specific background. It is overwritten whether we have a\n",
              "  specific estimator or a Pipeline/ColumnTransformer */\n",
              "  background-color: var(--sklearn-color-background);\n",
              "}\n",
              "\n",
              "/* Toggleable label */\n",
              "#sk-container-id-4 label.sk-toggleable__label {\n",
              "  cursor: pointer;\n",
              "  display: flex;\n",
              "  width: 100%;\n",
              "  margin-bottom: 0;\n",
              "  padding: 0.5em;\n",
              "  box-sizing: border-box;\n",
              "  text-align: center;\n",
              "  align-items: start;\n",
              "  justify-content: space-between;\n",
              "  gap: 0.5em;\n",
              "}\n",
              "\n",
              "#sk-container-id-4 label.sk-toggleable__label .caption {\n",
              "  font-size: 0.6rem;\n",
              "  font-weight: lighter;\n",
              "  color: var(--sklearn-color-text-muted);\n",
              "}\n",
              "\n",
              "#sk-container-id-4 label.sk-toggleable__label-arrow:before {\n",
              "  /* Arrow on the left of the label */\n",
              "  content: \"▸\";\n",
              "  float: left;\n",
              "  margin-right: 0.25em;\n",
              "  color: var(--sklearn-color-icon);\n",
              "}\n",
              "\n",
              "#sk-container-id-4 label.sk-toggleable__label-arrow:hover:before {\n",
              "  color: var(--sklearn-color-text);\n",
              "}\n",
              "\n",
              "/* Toggleable content - dropdown */\n",
              "\n",
              "#sk-container-id-4 div.sk-toggleable__content {\n",
              "  max-height: 0;\n",
              "  max-width: 0;\n",
              "  overflow: hidden;\n",
              "  text-align: left;\n",
              "  /* unfitted */\n",
              "  background-color: var(--sklearn-color-unfitted-level-0);\n",
              "}\n",
              "\n",
              "#sk-container-id-4 div.sk-toggleable__content.fitted {\n",
              "  /* fitted */\n",
              "  background-color: var(--sklearn-color-fitted-level-0);\n",
              "}\n",
              "\n",
              "#sk-container-id-4 div.sk-toggleable__content pre {\n",
              "  margin: 0.2em;\n",
              "  border-radius: 0.25em;\n",
              "  color: var(--sklearn-color-text);\n",
              "  /* unfitted */\n",
              "  background-color: var(--sklearn-color-unfitted-level-0);\n",
              "}\n",
              "\n",
              "#sk-container-id-4 div.sk-toggleable__content.fitted pre {\n",
              "  /* unfitted */\n",
              "  background-color: var(--sklearn-color-fitted-level-0);\n",
              "}\n",
              "\n",
              "#sk-container-id-4 input.sk-toggleable__control:checked~div.sk-toggleable__content {\n",
              "  /* Expand drop-down */\n",
              "  max-height: 200px;\n",
              "  max-width: 100%;\n",
              "  overflow: auto;\n",
              "}\n",
              "\n",
              "#sk-container-id-4 input.sk-toggleable__control:checked~label.sk-toggleable__label-arrow:before {\n",
              "  content: \"▾\";\n",
              "}\n",
              "\n",
              "/* Pipeline/ColumnTransformer-specific style */\n",
              "\n",
              "#sk-container-id-4 div.sk-label input.sk-toggleable__control:checked~label.sk-toggleable__label {\n",
              "  color: var(--sklearn-color-text);\n",
              "  background-color: var(--sklearn-color-unfitted-level-2);\n",
              "}\n",
              "\n",
              "#sk-container-id-4 div.sk-label.fitted input.sk-toggleable__control:checked~label.sk-toggleable__label {\n",
              "  background-color: var(--sklearn-color-fitted-level-2);\n",
              "}\n",
              "\n",
              "/* Estimator-specific style */\n",
              "\n",
              "/* Colorize estimator box */\n",
              "#sk-container-id-4 div.sk-estimator input.sk-toggleable__control:checked~label.sk-toggleable__label {\n",
              "  /* unfitted */\n",
              "  background-color: var(--sklearn-color-unfitted-level-2);\n",
              "}\n",
              "\n",
              "#sk-container-id-4 div.sk-estimator.fitted input.sk-toggleable__control:checked~label.sk-toggleable__label {\n",
              "  /* fitted */\n",
              "  background-color: var(--sklearn-color-fitted-level-2);\n",
              "}\n",
              "\n",
              "#sk-container-id-4 div.sk-label label.sk-toggleable__label,\n",
              "#sk-container-id-4 div.sk-label label {\n",
              "  /* The background is the default theme color */\n",
              "  color: var(--sklearn-color-text-on-default-background);\n",
              "}\n",
              "\n",
              "/* On hover, darken the color of the background */\n",
              "#sk-container-id-4 div.sk-label:hover label.sk-toggleable__label {\n",
              "  color: var(--sklearn-color-text);\n",
              "  background-color: var(--sklearn-color-unfitted-level-2);\n",
              "}\n",
              "\n",
              "/* Label box, darken color on hover, fitted */\n",
              "#sk-container-id-4 div.sk-label.fitted:hover label.sk-toggleable__label.fitted {\n",
              "  color: var(--sklearn-color-text);\n",
              "  background-color: var(--sklearn-color-fitted-level-2);\n",
              "}\n",
              "\n",
              "/* Estimator label */\n",
              "\n",
              "#sk-container-id-4 div.sk-label label {\n",
              "  font-family: monospace;\n",
              "  font-weight: bold;\n",
              "  display: inline-block;\n",
              "  line-height: 1.2em;\n",
              "}\n",
              "\n",
              "#sk-container-id-4 div.sk-label-container {\n",
              "  text-align: center;\n",
              "}\n",
              "\n",
              "/* Estimator-specific */\n",
              "#sk-container-id-4 div.sk-estimator {\n",
              "  font-family: monospace;\n",
              "  border: 1px dotted var(--sklearn-color-border-box);\n",
              "  border-radius: 0.25em;\n",
              "  box-sizing: border-box;\n",
              "  margin-bottom: 0.5em;\n",
              "  /* unfitted */\n",
              "  background-color: var(--sklearn-color-unfitted-level-0);\n",
              "}\n",
              "\n",
              "#sk-container-id-4 div.sk-estimator.fitted {\n",
              "  /* fitted */\n",
              "  background-color: var(--sklearn-color-fitted-level-0);\n",
              "}\n",
              "\n",
              "/* on hover */\n",
              "#sk-container-id-4 div.sk-estimator:hover {\n",
              "  /* unfitted */\n",
              "  background-color: var(--sklearn-color-unfitted-level-2);\n",
              "}\n",
              "\n",
              "#sk-container-id-4 div.sk-estimator.fitted:hover {\n",
              "  /* fitted */\n",
              "  background-color: var(--sklearn-color-fitted-level-2);\n",
              "}\n",
              "\n",
              "/* Specification for estimator info (e.g. \"i\" and \"?\") */\n",
              "\n",
              "/* Common style for \"i\" and \"?\" */\n",
              "\n",
              ".sk-estimator-doc-link,\n",
              "a:link.sk-estimator-doc-link,\n",
              "a:visited.sk-estimator-doc-link {\n",
              "  float: right;\n",
              "  font-size: smaller;\n",
              "  line-height: 1em;\n",
              "  font-family: monospace;\n",
              "  background-color: var(--sklearn-color-background);\n",
              "  border-radius: 1em;\n",
              "  height: 1em;\n",
              "  width: 1em;\n",
              "  text-decoration: none !important;\n",
              "  margin-left: 0.5em;\n",
              "  text-align: center;\n",
              "  /* unfitted */\n",
              "  border: var(--sklearn-color-unfitted-level-1) 1pt solid;\n",
              "  color: var(--sklearn-color-unfitted-level-1);\n",
              "}\n",
              "\n",
              ".sk-estimator-doc-link.fitted,\n",
              "a:link.sk-estimator-doc-link.fitted,\n",
              "a:visited.sk-estimator-doc-link.fitted {\n",
              "  /* fitted */\n",
              "  border: var(--sklearn-color-fitted-level-1) 1pt solid;\n",
              "  color: var(--sklearn-color-fitted-level-1);\n",
              "}\n",
              "\n",
              "/* On hover */\n",
              "div.sk-estimator:hover .sk-estimator-doc-link:hover,\n",
              ".sk-estimator-doc-link:hover,\n",
              "div.sk-label-container:hover .sk-estimator-doc-link:hover,\n",
              ".sk-estimator-doc-link:hover {\n",
              "  /* unfitted */\n",
              "  background-color: var(--sklearn-color-unfitted-level-3);\n",
              "  color: var(--sklearn-color-background);\n",
              "  text-decoration: none;\n",
              "}\n",
              "\n",
              "div.sk-estimator.fitted:hover .sk-estimator-doc-link.fitted:hover,\n",
              ".sk-estimator-doc-link.fitted:hover,\n",
              "div.sk-label-container:hover .sk-estimator-doc-link.fitted:hover,\n",
              ".sk-estimator-doc-link.fitted:hover {\n",
              "  /* fitted */\n",
              "  background-color: var(--sklearn-color-fitted-level-3);\n",
              "  color: var(--sklearn-color-background);\n",
              "  text-decoration: none;\n",
              "}\n",
              "\n",
              "/* Span, style for the box shown on hovering the info icon */\n",
              ".sk-estimator-doc-link span {\n",
              "  display: none;\n",
              "  z-index: 9999;\n",
              "  position: relative;\n",
              "  font-weight: normal;\n",
              "  right: .2ex;\n",
              "  padding: .5ex;\n",
              "  margin: .5ex;\n",
              "  width: min-content;\n",
              "  min-width: 20ex;\n",
              "  max-width: 50ex;\n",
              "  color: var(--sklearn-color-text);\n",
              "  box-shadow: 2pt 2pt 4pt #999;\n",
              "  /* unfitted */\n",
              "  background: var(--sklearn-color-unfitted-level-0);\n",
              "  border: .5pt solid var(--sklearn-color-unfitted-level-3);\n",
              "}\n",
              "\n",
              ".sk-estimator-doc-link.fitted span {\n",
              "  /* fitted */\n",
              "  background: var(--sklearn-color-fitted-level-0);\n",
              "  border: var(--sklearn-color-fitted-level-3);\n",
              "}\n",
              "\n",
              ".sk-estimator-doc-link:hover span {\n",
              "  display: block;\n",
              "}\n",
              "\n",
              "/* \"?\"-specific style due to the `<a>` HTML tag */\n",
              "\n",
              "#sk-container-id-4 a.estimator_doc_link {\n",
              "  float: right;\n",
              "  font-size: 1rem;\n",
              "  line-height: 1em;\n",
              "  font-family: monospace;\n",
              "  background-color: var(--sklearn-color-background);\n",
              "  border-radius: 1rem;\n",
              "  height: 1rem;\n",
              "  width: 1rem;\n",
              "  text-decoration: none;\n",
              "  /* unfitted */\n",
              "  color: var(--sklearn-color-unfitted-level-1);\n",
              "  border: var(--sklearn-color-unfitted-level-1) 1pt solid;\n",
              "}\n",
              "\n",
              "#sk-container-id-4 a.estimator_doc_link.fitted {\n",
              "  /* fitted */\n",
              "  border: var(--sklearn-color-fitted-level-1) 1pt solid;\n",
              "  color: var(--sklearn-color-fitted-level-1);\n",
              "}\n",
              "\n",
              "/* On hover */\n",
              "#sk-container-id-4 a.estimator_doc_link:hover {\n",
              "  /* unfitted */\n",
              "  background-color: var(--sklearn-color-unfitted-level-3);\n",
              "  color: var(--sklearn-color-background);\n",
              "  text-decoration: none;\n",
              "}\n",
              "\n",
              "#sk-container-id-4 a.estimator_doc_link.fitted:hover {\n",
              "  /* fitted */\n",
              "  background-color: var(--sklearn-color-fitted-level-3);\n",
              "}\n",
              "</style><div id=\"sk-container-id-4\" class=\"sk-top-container\"><div class=\"sk-text-repr-fallback\"><pre>Lasso(alpha=10)</pre><b>In a Jupyter environment, please rerun this cell to show the HTML representation or trust the notebook. <br />On GitHub, the HTML representation is unable to render, please try loading this page with nbviewer.org.</b></div><div class=\"sk-container\" hidden><div class=\"sk-item\"><div class=\"sk-estimator fitted sk-toggleable\"><input class=\"sk-toggleable__control sk-hidden--visually\" id=\"sk-estimator-id-4\" type=\"checkbox\" checked><label for=\"sk-estimator-id-4\" class=\"sk-toggleable__label fitted sk-toggleable__label-arrow\"><div><div>Lasso</div></div><div><a class=\"sk-estimator-doc-link fitted\" rel=\"noreferrer\" target=\"_blank\" href=\"https://scikit-learn.org/1.6/modules/generated/sklearn.linear_model.Lasso.html\">?<span>Documentation for Lasso</span></a><span class=\"sk-estimator-doc-link fitted\">i<span>Fitted</span></span></div></label><div class=\"sk-toggleable__content fitted\"><pre>Lasso(alpha=10)</pre></div> </div></div></div></div>"
            ]
          },
          "metadata": {},
          "execution_count": 126
        }
      ]
    },
    {
      "cell_type": "code",
      "source": [
        "# Predicitions\n",
        "y_train_pred_ridge = ridge_final.predict(X_train_eng)\n",
        "y_test_pred_ridge = ridge_final.predict(X_test_eng)\n",
        "\n",
        "y_train_pred_lasso = lasso_final.predict(X_train_eng)\n",
        "y_test_pred_lasso = lasso_final.predict(X_test_eng)"
      ],
      "metadata": {
        "id": "1FaRSXSZQZbE"
      },
      "execution_count": 127,
      "outputs": []
    },
    {
      "cell_type": "code",
      "source": [
        "# Calculate metrics\n",
        "train_rmse_ridge = np.sqrt(mean_squared_error(y_train, y_train_pred_ridge))\n",
        "test_rmse_ridge = np.sqrt(mean_squared_error(y_test, y_test_pred_ridge))\n",
        "test_mae_ridge = mean_absolute_error(y_test, y_test_pred_ridge)\n",
        "\n",
        "train_rmse_lasso = np.sqrt(mean_squared_error(y_train, y_train_pred_lasso))\n",
        "test_rmse_lasso = np.sqrt(mean_squared_error(y_test, y_test_pred_lasso))\n",
        "test_mae_lasso = mean_absolute_error(y_test, y_test_pred_lasso)"
      ],
      "metadata": {
        "id": "2NLe5xmyQed3"
      },
      "execution_count": 128,
      "outputs": []
    },
    {
      "cell_type": "code",
      "source": [
        "print(\"\\n\" + \"=\" * 40)\n",
        "print(\"MODEL COMPARISON: OLS vs RIDGE vs LASSO\")\n",
        "print(\"=\" * 40)\n",
        "\n",
        "comparison_reg_df = pd.DataFrame({\n",
        "    'Metric': ['Train RMSE', 'Test RMSE', 'Test MAE'],\n",
        "    'OLS (Engineered)': [\n",
        "        f'${train_rmse_eng:.2f}',\n",
        "        f'${test_rmse_eng:.2f}',\n",
        "        f'${test_mae_eng:.2f}'\n",
        "    ],\n",
        "    'Ridge': [\n",
        "        f'${train_rmse_ridge:.2f}',\n",
        "        f'${test_rmse_ridge:.2f}',\n",
        "        f'${test_mae_ridge:.2f}'\n",
        "    ],\n",
        "    'Lasso': [\n",
        "        f'${train_rmse_lasso:.2f}',\n",
        "        f'${test_rmse_lasso:.2f}',\n",
        "        f'${test_mae_lasso:.2f}'\n",
        "    ]\n",
        "})\n",
        "\n",
        "print(\"\\n\", comparison_reg_df.to_string(index=False))"
      ],
      "metadata": {
        "colab": {
          "base_uri": "https://localhost:8080/"
        },
        "id": "blbckz7JQk_n",
        "outputId": "4012384c-355e-42e4-8d01-502718261576"
      },
      "execution_count": 129,
      "outputs": [
        {
          "output_type": "stream",
          "name": "stdout",
          "text": [
            "\n",
            "========================================\n",
            "MODEL COMPARISON: OLS vs RIDGE vs LASSO\n",
            "========================================\n",
            "\n",
            "     Metric OLS (Engineered)  Ridge  Lasso\n",
            "Train RMSE            $0.00 $37.92 $42.84\n",
            " Test RMSE          $381.16 $56.70 $77.74\n",
            "  Test MAE          $255.22 $35.70 $52.82\n"
          ]
        }
      ]
    },
    {
      "cell_type": "code",
      "source": [
        "# Get feature names and coefficients\n",
        "feature_names = X_train_eng.columns\n",
        "lasso_coefs = lasso_final.coef_\n",
        "\n",
        "# Create dataframe\n",
        "coef_df = pd.DataFrame({\n",
        "    'Feature': feature_names,\n",
        "    'Coefficient': lasso_coefs\n",
        "}).sort_values('Coefficient', key=abs, ascending=False)\n",
        "\n",
        "# Show non-zero features\n",
        "print(\"\\n LASSO FEATURE SELECTION\")\n",
        "print(\"=\" * 50)\n",
        "print(\"\\nNon-Zero Coefficients:\")\n",
        "non_zero = coef_df[coef_df['Coefficient'] != 0]\n",
        "print(non_zero.to_string(index=False))\n",
        "\n",
        "print(\"\\n\\nPruned Features (set to 0):\")\n",
        "zero = coef_df[coef_df['Coefficient'] == 0]\n",
        "print(zero['Feature'].tolist())"
      ],
      "metadata": {
        "colab": {
          "base_uri": "https://localhost:8080/"
        },
        "id": "sawBL2d0SN6G",
        "outputId": "93db329b-8ee4-4804-8241-7029d7493e2f"
      },
      "execution_count": 130,
      "outputs": [
        {
          "output_type": "stream",
          "name": "stdout",
          "text": [
            "\n",
            " LASSO FEATURE SELECTION\n",
            "==================================================\n",
            "\n",
            "Non-Zero Coefficients:\n",
            "              Feature  Coefficient\n",
            "              Age_yrs  -243.648978\n",
            "Size_beds_interaction   153.490412\n",
            "            Size_sqft    31.518802\n",
            "\n",
            "\n",
            "Pruned Features (set to 0):\n",
            "['Beds', 'Dist_Transit_km', 'Renovated', 'Crime_Index', 'Neighborhood_B', 'Neighborhood_C', 'Size_sqft_squared', 'renovated_neighborhood_B']\n"
          ]
        }
      ]
    },
    {
      "cell_type": "markdown",
      "source": [
        "Age is the most important predictor while size and its interaction with bedrooms provide additional value. Everything else adds more noise than signal. This shows a bias-variance tradeoff. Lasso accepts some bias to dramatically reduce variance, resulting in a better performance."
      ],
      "metadata": {
        "id": "Btd6VAA-Smca"
      }
    },
    {
      "cell_type": "markdown",
      "source": [
        "# Gradent Descent"
      ],
      "metadata": {
        "id": "S4sYU8Y2TeLa"
      }
    },
    {
      "cell_type": "code",
      "source": [
        "import matplotlib.pyplot as plt\n",
        "import numpy as np"
      ],
      "metadata": {
        "id": "2EyjBuKhTniE"
      },
      "execution_count": 131,
      "outputs": []
    },
    {
      "cell_type": "code",
      "source": [
        "X_gd = X_train.values\n",
        "y_gd = y_train.values"
      ],
      "metadata": {
        "id": "SUlSVsrWS-Wv"
      },
      "execution_count": 132,
      "outputs": []
    },
    {
      "cell_type": "code",
      "source": [
        "X_gd_with_intercept = np.column_stack([np.ones(len(X_gd)), X_gd])"
      ],
      "metadata": {
        "id": "NMRY1dcVTvj4"
      },
      "execution_count": 133,
      "outputs": []
    },
    {
      "cell_type": "code",
      "source": [
        "def batch_gradient_descent(X, y, learning_rate, n_iterations):\n",
        "  \"\"\"\n",
        "  Batch Gradient Descent for Linear Regression\n",
        "  Update rule: B = B - n (2/n) * X^T(XB - y)\n",
        "  \"\"\"\n",
        "  n_samples, n_features = X.shape\n",
        "  beta = np.zeros(n_features)\n",
        "  mse_history = []\n",
        "\n",
        "  for interation in range(n_iterations):\n",
        "    # Predctions\n",
        "    y_pred = X @ beta\n",
        "\n",
        "    # Residuals\n",
        "    residuals = y_pred - y\n",
        "\n",
        "    # Gradient\n",
        "    gradient = (2/ n_samples) * (X.T @ residuals)\n",
        "\n",
        "    # Update parameters\n",
        "    beta = beta - learning_rate * gradient\n",
        "\n",
        "    # Caculate and store MSE\n",
        "    mse = np.mean(residuals ** 2)\n",
        "    mse_history.append(mse)\n",
        "\n",
        "  return beta, mse_history"
      ],
      "metadata": {
        "id": "YnmoNi0ZT8pt"
      },
      "execution_count": 134,
      "outputs": []
    },
    {
      "cell_type": "code",
      "source": [
        "learning_rates = [0.001, 0.01, 0.1]\n",
        "n_iterations = 2000\n",
        "results = {}\n",
        "\n",
        "for lr in learning_rates:\n",
        "    beta_final, mse_history = batch_gradient_descent(\n",
        "        X_gd_with_intercept, y_gd, lr, n_iterations\n",
        "    )\n",
        "    results[lr] = {\n",
        "        'beta': beta_final,\n",
        "        'mse_history': mse_history,\n",
        "        'final_mse': mse_history[-1]\n",
        "    }\n",
        "\n",
        "    print(f\"\\nLearning Rate η = {lr}\")\n",
        "    print(f\"  Final MSE: {mse_history[-1]:.2f}\")\n",
        "    print(f\"  Initial MSE: {mse_history[0]:.2f}\")\n",
        "    print(f\"  Improvement: {mse_history[0] - mse_history[-1]:.2f}\")"
      ],
      "metadata": {
        "colab": {
          "base_uri": "https://localhost:8080/"
        },
        "id": "xQ6sZ6h_U59R",
        "outputId": "6ccb94d6-dc00-4500-8ee2-c427d5d5af93"
      },
      "execution_count": 135,
      "outputs": [
        {
          "output_type": "stream",
          "name": "stdout",
          "text": [
            "\n",
            "Learning Rate η = 0.001\n",
            "  Final MSE: 71769.69\n",
            "  Initial MSE: 7587222.22\n",
            "  Improvement: 7515452.54\n",
            "\n",
            "Learning Rate η = 0.01\n",
            "  Final MSE: 10143.31\n",
            "  Initial MSE: 7587222.22\n",
            "  Improvement: 7577078.91\n",
            "\n",
            "Learning Rate η = 0.1\n",
            "  Final MSE: 2375.13\n",
            "  Initial MSE: 7587222.22\n",
            "  Improvement: 7584847.09\n"
          ]
        }
      ]
    },
    {
      "cell_type": "code",
      "source": [
        "plt.figure(figsize=(12, 6))\n",
        "\n",
        "for lr in learning_rates:\n",
        "    mse_history = results[lr]['mse_history']\n",
        "    plt.plot(mse_history, label=f'η = {lr}', linewidth=2)\n",
        "\n",
        "plt.xlabel('Iteration', fontsize=12)\n",
        "plt.ylabel('Training MSE', fontsize=12)\n",
        "plt.title('Gradient Descent Convergence: Training MSE vs Iterations', fontsize=14, fontweight='bold')\n",
        "plt.legend(fontsize=11)\n",
        "plt.grid(True, alpha=0.3)\n",
        "plt.tight_layout()\n",
        "plt.show()"
      ],
      "metadata": {
        "colab": {
          "base_uri": "https://localhost:8080/",
          "height": 607
        },
        "id": "AI81RTsZVTq7",
        "outputId": "5cf4eecd-2187-4fbd-b0ef-cf43719123a0"
      },
      "execution_count": 136,
      "outputs": [
        {
          "output_type": "display_data",
          "data": {
            "text/plain": [
              "<Figure size 1200x600 with 1 Axes>"
            ],
            "image/png": "[encoded data removed]"
          },
          "metadata": {}
        }
      ]
    },
    {
      "cell_type": "code",
      "source": [
        "print(\"\\n\" + \"=\" * 70)\n",
        "print(\"COMPARISON WITH OLS (Closed-Form Solution)\")\n",
        "print(\"=\" * 70)\n",
        "\n",
        "# OLS solution: β = (X^T X)^(-1) X^T y\n",
        "beta_ols = np.linalg.inv(X_gd_with_intercept.T @ X_gd_with_intercept) @ X_gd_with_intercept.T @ y_gd\n",
        "mse_ols = np.mean((X_gd_with_intercept @ beta_ols - y_gd) ** 2)\n",
        "\n",
        "print(f\"\\nOLS Closed-Form MSE: {mse_ols:.2f}\")\n",
        "print(\"\\nGradient Descent Final MSE:\")\n",
        "for lr in learning_rates:\n",
        "    final_mse = results[lr]['final_mse']\n",
        "    percent_diff = ((final_mse - mse_ols) / mse_ols) * 100\n",
        "    print(f\"  η = {lr:5.3f}: MSE = {final_mse:10,.2f} ({percent_diff:+6.1f}% from OLS)\")\n"
      ],
      "metadata": {
        "colab": {
          "base_uri": "https://localhost:8080/"
        },
        "id": "ouIdToMUVq_U",
        "outputId": "c2cd9ba4-60bf-4d7a-a828-98be51d7829a"
      },
      "execution_count": 137,
      "outputs": [
        {
          "output_type": "stream",
          "name": "stdout",
          "text": [
            "\n",
            "======================================================================\n",
            "COMPARISON WITH OLS (Closed-Form Solution)\n",
            "======================================================================\n",
            "\n",
            "OLS Closed-Form MSE: 751381.77\n",
            "\n",
            "Gradient Descent Final MSE:\n",
            "  η = 0.001: MSE =  71,769.69 ( -90.4% from OLS)\n",
            "  η = 0.010: MSE =  10,143.31 ( -98.7% from OLS)\n",
            "  η = 0.100: MSE =   2,375.13 ( -99.7% from OLS)\n"
          ]
        }
      ]
    },
    {
      "cell_type": "code",
      "source": [
        "print(\"\\n\" + \"=\" * 70)\n",
        "print(\"CONVERGENCE BEHAVIOR ANALYSIS\")\n",
        "print(\"=\" * 70)\n",
        "\n",
        "for lr in learning_rates:\n",
        "    mse_history = results[lr]['mse_history']\n",
        "\n",
        "    # Check recent improvement\n",
        "    recent_improvement = mse_history[-100] - mse_history[-1]\n",
        "    percent_to_ols = ((mse_history[-1] - mse_ols) / mse_ols) * 100\n",
        "\n",
        "    print(f\"\\n**η = {lr}:**\")\n",
        "    print(f\"  Initial MSE:               {mse_history[0]:,.2f}\")\n",
        "    print(f\"  Final MSE:                 {mse_history[-1]:,.2f}\")\n",
        "    print(f\"  OLS Target MSE:            {mse_ols:,.2f}\")\n",
        "    print(f\"  Distance from optimal:     {percent_to_ols:+.1f}%\")\n",
        "    print(f\"  Improvement (last 100 it): {recent_improvement:,.2f}\")"
      ],
      "metadata": {
        "colab": {
          "base_uri": "https://localhost:8080/"
        },
        "id": "pVUJrrJLVwgc",
        "outputId": "5365f049-d72c-4ebd-a649-bc97d5dce336"
      },
      "execution_count": 138,
      "outputs": [
        {
          "output_type": "stream",
          "name": "stdout",
          "text": [
            "\n",
            "======================================================================\n",
            "CONVERGENCE BEHAVIOR ANALYSIS\n",
            "======================================================================\n",
            "\n",
            "**η = 0.001:**\n",
            "  Initial MSE:               7,587,222.22\n",
            "  Final MSE:                 71,769.69\n",
            "  OLS Target MSE:            751,381.77\n",
            "  Distance from optimal:     -90.4%\n",
            "  Improvement (last 100 it): 1,633.19\n",
            "\n",
            "**η = 0.01:**\n",
            "  Initial MSE:               7,587,222.22\n",
            "  Final MSE:                 10,143.31\n",
            "  OLS Target MSE:            751,381.77\n",
            "  Distance from optimal:     -98.7%\n",
            "  Improvement (last 100 it): 599.77\n",
            "\n",
            "**η = 0.1:**\n",
            "  Initial MSE:               7,587,222.22\n",
            "  Final MSE:                 2,375.13\n",
            "  OLS Target MSE:            751,381.77\n",
            "  Distance from optimal:     -99.7%\n",
            "  Improvement (last 100 it): 118.23\n"
          ]
        }
      ]
    },
    {
      "cell_type": "code",
      "source": [
        "plt.figure(figsize=(12, 6))\n",
        "\n",
        "for lr in learning_rates:\n",
        "    mse_history = results[lr]['mse_history']\n",
        "    plt.plot(range(1500, 2000), mse_history[1500:], label=f'η = {lr}', linewidth=2, marker='o', markersize=3, markevery=50)\n",
        "\n",
        "# Add OLS reference line\n",
        "plt.axhline(y=mse_ols, color='red', linestyle='--', linewidth=2, label='OLS (Target)', alpha=0.7)\n",
        "\n",
        "plt.xlabel('Iteration', fontsize=12)\n",
        "plt.ylabel('Training MSE', fontsize=12)\n",
        "plt.title('Gradient Descent Convergence (Last 500 Iterations)', fontsize=14, fontweight='bold')\n",
        "plt.legend(fontsize=11)\n",
        "plt.grid(True, alpha=0.3)\n",
        "plt.tight_layout()\n",
        "plt.show()"
      ],
      "metadata": {
        "colab": {
          "base_uri": "https://localhost:8080/",
          "height": 607
        },
        "id": "w9q3hO-bVyYo",
        "outputId": "4777c6cb-ce7e-43b2-be49-47af46edf15d"
      },
      "execution_count": 139,
      "outputs": [
        {
          "output_type": "display_data",
          "data": {
            "text/plain": [
              "<Figure size 1200x600 with 1 Axes>"
            ],
            "image/png": "[encoded data removed]"
          },
          "metadata": {}
        }
      ]
    },
    {
      "cell_type": "markdown",
      "source": [
        "## Why Feature Standardization Affects Learning Rate Stability\n",
        "\n",
        "Without standardization, features have different scales, causing gradients to have vastly different magnitudes. A single learning rate cannot optimize all features because if n is large enough for small scale features, large-scale features overshoot and diverge. On the other hand, if n is small enough for large-scale features, small-scale features converge extremely slowly. With standardization, all features are on the same scales, gradients have magnitudes and the loss surface becaomes sphericial. This allows one learning rate to work uniformly well for all dimensions."
      ],
      "metadata": {
        "id": "d7Cc24-DWCv_"
      }
    },
    {
      "cell_type": "markdown",
      "source": [
        "## Convergence Behavior for Different Learning Rates\n",
        "\n",
        "The results show that n = 0.1 achieves the best convergence, reducing MSE from 7,587,222 to 2,375 in 2000 interations. In contrast, n = 0.001 only reaches MSE = 10,143 and n = 0.001 barley made any progress. But all three learning rates showed continuous improvement with 2000 interations."
      ],
      "metadata": {
        "id": "D7qjwyJ4XIzO"
      }
    },
    {
      "cell_type": "markdown",
      "source": [
        "# Final Model Selection\n",
        "\n",
        "I recommend the Ridge Regression model with a = 1 as the final model.\n",
        "\n",
        "Test Performance Summary:\n",
        "- Ridge: Test RMSE = 55.70\n",
        "- Lasso: Test RMSE = 77.74\n",
        "- Baseline OLS: Test RMSE = 387.60\n",
        "- Engineered OLS: Test RMSE = 381.16\n",
        "\n",
        "Baseline and Engineered OLS are rejected due to high variance. We can see that with Train RMSE is near 0-26 but Test is at 380. Big train-test gap indicating the model memorized training noised but with a limited amount of data, it creates low bias but high variance. With Lasso, we see there's more bias in this because it took out 73% of featurs which oversimplifies since the dataset is small. Lastly with Ridge, it achieves the best bias-variance tradeoff, small train-test gap of 18.78 and 85% improvement in test error vs baseline OLS.\n",
        "\n",
        "Overall, Ridge Regression minimizes total predicition error by introducing a smaller amount of bias to achieve a large reduction in variance. Ridge Regularization controls variance while maintaning a good predcitive accuracy. With the lowest model that was tested, Test RMSE = 56.70."
      ],
      "metadata": {
        "id": "Oozqc8QcY41e"
      }
    },
    {
      "cell_type": "markdown",
      "source": [
        "# Business Recommendation\n",
        "According the the analysis of 12 apartment listings, there are three factors that would mostly impact monthly rent.\n",
        "\n",
        "Startng off with apartment age. The Older the property the lower the rent. Each additional year of building age reduces rent by approximately 200 - 300. The second thing, layout and size. Larger aparments and those with more bedrooms come with premiium rents. The interaction with square footage and bedroom count is important like a 2 bedroom apartment at 800 sq ft commands more rent than 1 bedroom at the same size. Lastly, location factors. Neighborhood, transit proximity, and crime index showed incosistent effects in the small sample, it may suggest less critical than property characteristics."
      ],
      "metadata": {
        "id": "ANpuKb9Pbklq"
      }
    }
  ]
}
